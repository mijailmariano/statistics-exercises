{
 "cells": [
  {
   "cell_type": "code",
   "execution_count": 134,
   "metadata": {},
   "outputs": [],
   "source": [
    "import matplotlib.pyplot as plt\n",
    "import numpy as np\n",
    "import pandas as pd\n",
    "from scipy import stats\n",
    "\n"
   ]
  },
  {
   "cell_type": "markdown",
   "metadata": {},
   "source": [
    "### A bank found that the average number of cars waiting during the noon hour at a drive-up window follows a Poisson distribution with a mean of 2 cars. Make a chart of this distribution and answer these questions concerning the probability of cars waiting at the drive-up window.\n",
    "\n",
    "    - What is the probability that no cars drive up in the noon hour?\n",
    "    - What is the probability that 3 or more cars come through the drive through?\n",
    "    - How likely is it that the drive through gets at least 1 car?"
   ]
  },
  {
   "cell_type": "code",
   "execution_count": 135,
   "metadata": {},
   "outputs": [
    {
     "data": {
      "text/plain": [
       "Text(0.5, 1.0, 'Poisson distribution $λ = 1$')"
      ]
     },
     "execution_count": 135,
     "metadata": {},
     "output_type": "execute_result"
    },
    {
     "data": {
      "image/png": "[encoded data removed]",
      "text/plain": [
       "<Figure size 432x288 with 1 Axes>"
      ]
     },
     "metadata": {
      "needs_background": "light"
     },
     "output_type": "display_data"
    }
   ],
   "source": [
    "λ = 2\n",
    "\n",
    "x = np.arange(0,10)\n",
    "y = stats.poisson(λ).pmf(x)\n",
    "\n",
    "plt.bar(x,y)\n",
    "plt.xlabel('No of Cars Waiting at Noon')\n",
    "plt.ylabel('P(X)')\n",
    "plt.title('Poisson distribution $λ = 1$')"
   ]
  },
  {
   "cell_type": "code",
   "execution_count": 136,
   "metadata": {},
   "outputs": [
    {
     "data": {
      "text/plain": [
       "0.14"
      ]
     },
     "execution_count": 136,
     "metadata": {},
     "output_type": "execute_result"
    }
   ],
   "source": [
    "# 1b. What is the probability that no cars drive up in the noon hour?\n",
    "\n",
    "# 14% probability that no cars drive up in the noon hour\n",
    "stats.poisson(λ).pmf(0).round(2)"
   ]
  },
  {
   "cell_type": "code",
   "execution_count": 137,
   "metadata": {},
   "outputs": [
    {
     "data": {
      "text/plain": [
       "0.32"
      ]
     },
     "execution_count": 137,
     "metadata": {},
     "output_type": "execute_result"
    }
   ],
   "source": [
    "# 1c. What is the probability that 3 or more cars come through the drive through?\n",
    "\n",
    "# 32% probability that 3 or more cars come through the drive-thru\n",
    "lambda_of_cars = stats.poisson(λ)\n",
    "lambda_of_cars.sf(2).round(2)"
   ]
  },
  {
   "cell_type": "code",
   "execution_count": 138,
   "metadata": {},
   "outputs": [
    {
     "data": {
      "text/plain": [
       "0.86"
      ]
     },
     "execution_count": 138,
     "metadata": {},
     "output_type": "execute_result"
    }
   ],
   "source": [
    "# 1d. How likely is it that the drive through gets at least 1 car?\n",
    "# 86% probability that the drive thru sees at least 1 or more cars\n",
    "\n",
    "lambda_of_cars.sf(0).round(2)"
   ]
  },
  {
   "cell_type": "markdown",
   "metadata": {},
   "source": [
    "### Grades of State University graduates are normally distributed with a mean of 3.0 and a standard deviation of .3. Calculate the following:\n",
    "\n",
    "    - What grade point average is required to be in the top 5% of the graduating class?\n",
    "    - What GPA constitutes the bottom 15% of the class?\n",
    "    - An eccentric alumnus left scholarship money for students in the third decile from the bottom of their class\n",
    "    - Determine the range of the third decile\n",
    "    - Would a student with a 2.8 grade point average qualify for this scholarship?\n",
    "    - If I have a GPA of 3.5, what percentile am I in?"
   ]
  },
  {
   "cell_type": "code",
   "execution_count": 139,
   "metadata": {},
   "outputs": [],
   "source": [
    "# 2. \n",
    "\n",
    "mean = 3\n",
    "std_dev = 0.3"
   ]
  },
  {
   "cell_type": "code",
   "execution_count": 140,
   "metadata": {},
   "outputs": [
    {
     "data": {
      "text/plain": [
       "3.49"
      ]
     },
     "execution_count": 140,
     "metadata": {},
     "output_type": "execute_result"
    }
   ],
   "source": [
    "# 2a. What grade point average is required to be in the top 5% of the graduating class?\n",
    "\n",
    "# 3.49 GPA = top 5% of class\n",
    "university = stats.norm(mean, std_dev)\n",
    "university.isf(0.05).round(2)"
   ]
  },
  {
   "cell_type": "code",
   "execution_count": 141,
   "metadata": {},
   "outputs": [
    {
     "data": {
      "text/plain": [
       "2.69"
      ]
     },
     "execution_count": 141,
     "metadata": {},
     "output_type": "execute_result"
    }
   ],
   "source": [
    "# 2b. What GPA constitutes the bottom 15% of the class?\n",
    "\n",
    "# 2.69 GPA\n",
    "university.ppf(0.15).round(2)"
   ]
  },
  {
   "cell_type": "code",
   "execution_count": 142,
   "metadata": {},
   "outputs": [],
   "source": [
    "#  2d. An eccentric alumnus left scholarship money for students in the third decile from the bottom of their class. \n",
    "# Determine the range of the third decile.\n",
    "# 3rd Decile from Bottom is in range of 2.75 - 2.84 GPA\n",
    "\n",
    "# Would a student with a 2.8 grade point average qualify for this scholarship?\n",
    "# Yes, a 2.8 GPA would qualify for this scholarship\n",
    "\n",
    "bottom_10 = university.ppf(.1) # 2.62 GPA represents the top 10% of class\n",
    "top_10 = university.isf(.1) # 3.38 GPA represents the top 10% of class"
   ]
  },
  {
   "cell_type": "code",
   "execution_count": 143,
   "metadata": {},
   "outputs": [
    {
     "data": {
      "text/plain": [
       "array([2.74751363, 2.84267985])"
      ]
     },
     "execution_count": 143,
     "metadata": {},
     "output_type": "execute_result"
    }
   ],
   "source": [
    "university.ppf((0.2, 0.3))"
   ]
  },
  {
   "cell_type": "code",
   "execution_count": 144,
   "metadata": {},
   "outputs": [
    {
     "data": {
      "text/html": [
       "<div>\n",
       "<style scoped>\n",
       "    .dataframe tbody tr th:only-of-type {\n",
       "        vertical-align: middle;\n",
       "    }\n",
       "\n",
       "    .dataframe tbody tr th {\n",
       "        vertical-align: top;\n",
       "    }\n",
       "\n",
       "    .dataframe thead th {\n",
       "        text-align: right;\n",
       "    }\n",
       "</style>\n",
       "<table border=\"1\" class=\"dataframe\">\n",
       "  <thead>\n",
       "    <tr style=\"text-align: right;\">\n",
       "      <th></th>\n",
       "      <th>0</th>\n",
       "    </tr>\n",
       "  </thead>\n",
       "  <tbody>\n",
       "    <tr>\n",
       "      <th>0</th>\n",
       "      <td>2.441677</td>\n",
       "    </tr>\n",
       "    <tr>\n",
       "      <th>1</th>\n",
       "      <td>2.581257</td>\n",
       "    </tr>\n",
       "    <tr>\n",
       "      <th>2</th>\n",
       "      <td>2.720838</td>\n",
       "    </tr>\n",
       "    <tr>\n",
       "      <th>3</th>\n",
       "      <td>2.860419</td>\n",
       "    </tr>\n",
       "    <tr>\n",
       "      <th>4</th>\n",
       "      <td>3.000000</td>\n",
       "    </tr>\n",
       "    <tr>\n",
       "      <th>5</th>\n",
       "      <td>3.139581</td>\n",
       "    </tr>\n",
       "    <tr>\n",
       "      <th>6</th>\n",
       "      <td>3.279162</td>\n",
       "    </tr>\n",
       "    <tr>\n",
       "      <th>7</th>\n",
       "      <td>3.418743</td>\n",
       "    </tr>\n",
       "    <tr>\n",
       "      <th>8</th>\n",
       "      <td>3.558323</td>\n",
       "    </tr>\n",
       "  </tbody>\n",
       "</table>\n",
       "</div>"
      ],
      "text/plain": [
       "          0\n",
       "0  2.441677\n",
       "1  2.581257\n",
       "2  2.720838\n",
       "3  2.860419\n",
       "4  3.000000\n",
       "5  3.139581\n",
       "6  3.279162\n",
       "7  3.418743\n",
       "8  3.558323"
      ]
     },
     "execution_count": 144,
     "metadata": {},
     "output_type": "execute_result"
    }
   ],
   "source": [
    "# attempting to use numpy's \"percentile\" method to calculate decile\n",
    "\n",
    "top_1 = university.isf(0.01)\n",
    "bottom_1 = university.ppf(0.01)\n",
    "\n",
    "uni_array = np.array([bottom_1, top_1])\n",
    "uni_percentiles = np.percentile(uni_array, np.arange(10, 100, 10))\n",
    "percentiles_df = pd.DataFrame(uni_percentiles)\n",
    "percentiles_df"
   ]
  },
  {
   "cell_type": "code",
   "execution_count": 145,
   "metadata": {},
   "outputs": [
    {
     "data": {
      "text/plain": [
       "10    3.384465\n",
       "9     3.307572\n",
       "8     3.230679\n",
       "7     3.153786\n",
       "6     3.076893\n",
       "5     3.000000\n",
       "4     2.923107\n",
       "3     2.846214\n",
       "2     2.769321\n",
       "1     2.692428\n",
       "0     2.615535\n",
       "Name: 0, dtype: float64"
      ]
     },
     "execution_count": 145,
     "metadata": {},
     "output_type": "execute_result"
    }
   ],
   "source": [
    "# \"percentile\" approach -- probably not correct? ***\n",
    "\n",
    "var = np.array([bottom_10, top_10])\n",
    "quantiles = np.percentile(var, np.arange(0, 101, 10))\n",
    "quantile_df = pd.DataFrame(quantiles)\n",
    "quantile_df = quantile_df[0][::-1] # reversing the order of the column, placing highest quantile first in the order\n",
    "\n",
    "quantile_df"
   ]
  },
  {
   "cell_type": "code",
   "execution_count": 146,
   "metadata": {},
   "outputs": [
    {
     "data": {
      "text/plain": [
       "0.95"
      ]
     },
     "execution_count": 146,
     "metadata": {},
     "output_type": "execute_result"
    }
   ],
   "source": [
    "# 2e. If I have a GPA of 3.5, what percentile am I in?\n",
    "\n",
    "# 95% percentile\n",
    "university.cdf(3.5).round(2)"
   ]
  },
  {
   "cell_type": "markdown",
   "metadata": {},
   "source": [
    "### Problem #3 A marketing website has...\n",
    "    - an average click-through rate of 2%\n",
    "    - One day they observe 4326 visitors and 97 click-throughs\n",
    "    - How likely is it that this many people or more click through?"
   ]
  },
  {
   "cell_type": "code",
   "execution_count": 147,
   "metadata": {},
   "outputs": [
    {
     "data": {
      "text/plain": [
       "0.14"
      ]
     },
     "execution_count": 147,
     "metadata": {},
     "output_type": "execute_result"
    }
   ],
   "source": [
    "# 3. binomial distribution\n",
    "\n",
    "# How likely is it that this many people or more click through?\n",
    "# 14% probability that there are 97 or more click throughs given the 4326 number of visitors \n",
    "\n",
    "n_trials = 4326\n",
    "p = 0.02\n",
    "\n",
    "clicks = stats.binom(n_trials, p)\n",
    "clicks.sf(96).round(2)"
   ]
  },
  {
   "cell_type": "code",
   "execution_count": 148,
   "metadata": {},
   "outputs": [
    {
     "data": {
      "text/plain": [
       "0.98"
      ]
     },
     "execution_count": 148,
     "metadata": {},
     "output_type": "execute_result"
    }
   ],
   "source": [
    "# 4. You are working on some statistics homework consisting of 100 questions where all of the answers are a probability rounded to the hundreths place. \n",
    "# Looking to save time, you put down random probabilities as the answer to each question.\n",
    "\n",
    "n_questions = 100\n",
    "p_questions = 0.50\n",
    "\n",
    "test = stats.binom(n_questions, p_questions)\n",
    "\n",
    "test.cdf(60).round(2)\n",
    "\n",
    "# What is the probability that at least one of your first 60 answers is correct?\n",
    "# 98% probability that at least one out of the first 60 questions / answers will be correct\n",
    "\n",
    "# Binomial Distribution --> where there is a \"correct\" and \"incorrect\" answer"
   ]
  },
  {
   "cell_type": "code",
   "execution_count": 149,
   "metadata": {},
   "outputs": [
    {
     "data": {
      "text/plain": [
       "0.45"
      ]
     },
     "execution_count": 149,
     "metadata": {},
     "output_type": "execute_result"
    }
   ],
   "source": [
    "# (class walk-thru)\n",
    "\n",
    "stats.binom(60, 0.01).sf(0).round(2)"
   ]
  },
  {
   "cell_type": "code",
   "execution_count": 150,
   "metadata": {},
   "outputs": [
    {
     "data": {
      "text/plain": [
       "1.0"
      ]
     },
     "execution_count": 150,
     "metadata": {},
     "output_type": "execute_result"
    }
   ],
   "source": [
    "n_trials = 10_000\n",
    "n_questions = 100\n",
    "p_questions = 0.50\n",
    "\n",
    "test = np.random.choice([0, 1], size=(n_trials, n_questions), p = [p_questions, p_questions])\n",
    "\n",
    "(test[:61].sum(axis=1) >= 1).mean()"
   ]
  },
  {
   "cell_type": "code",
   "execution_count": 151,
   "metadata": {},
   "outputs": [
    {
     "data": {
      "text/plain": [
       "1.0"
      ]
     },
     "execution_count": 151,
     "metadata": {},
     "output_type": "execute_result"
    }
   ],
   "source": [
    "n_trials = 10_000\n",
    "n_questions = 100\n",
    "p_questions = 0.50\n",
    "\n",
    "test = np.random.choice([0, 1], size=(n_trials, n_questions), p = [p_questions, p_questions])\n",
    "\n",
    "test_df = pd.DataFrame(test)\n",
    "\n",
    "(test_df.iloc[:,range(0, 61)].sum(axis=1) >= 1).mean()"
   ]
  },
  {
   "cell_type": "markdown",
   "metadata": {},
   "source": [
    " ### The codeup staff tends to get upset when the student break area is not cleaned up. \n",
    " \n",
    "    - Suppose that there's a 3% chance that any one student cleans the break area when they visit it, and, on any given day... \n",
    "    - About 90% of the 3 active cohorts of 22 students visit the break area\n",
    "    - How likely is it that the break area gets cleaned up each day? \n",
    "    - How likely is it that it goes two days without getting cleaned up? \n",
    "    - All week?\n"
   ]
  },
  {
   "cell_type": "code",
   "execution_count": 152,
   "metadata": {},
   "outputs": [
    {
     "data": {
      "text/plain": [
       "0.83"
      ]
     },
     "execution_count": 152,
     "metadata": {},
     "output_type": "execute_result"
    }
   ],
   "source": [
    "# (class walk-thru)\n",
    "# chance that break-room gets cleaned up at least 1 once daily\n",
    "# where 90% of 3 cohorts of 22 = 59 students daily \n",
    "\n",
    "stats.binom(59, 0.03).sf(0).round(2)"
   ]
  },
  {
   "cell_type": "code",
   "execution_count": 153,
   "metadata": {},
   "outputs": [
    {
     "data": {
      "text/plain": [
       "0.83"
      ]
     },
     "execution_count": 153,
     "metadata": {},
     "output_type": "execute_result"
    }
   ],
   "source": [
    "#  5a.  How likely is it that the break area gets cleaned up each day? \n",
    "# 84% chance that the break room is cleaned-up every day\n",
    "\n",
    "n_trials = 10_000\n",
    "p = 0.03\n",
    "\n",
    "# where \"0\" represents \"doesn't clean\" and \"1\" represents \"cleans\"\n",
    "cleanup = np.random.choice([0, 1], size=(n_trials, 59), p=[0.97, 0.03])\n",
    "(cleanup.sum(axis=1) >= 1).mean().round(2)"
   ]
  },
  {
   "cell_type": "code",
   "execution_count": 154,
   "metadata": {},
   "outputs": [
    {
     "data": {
      "text/plain": [
       "0.31"
      ]
     },
     "execution_count": 154,
     "metadata": {},
     "output_type": "execute_result"
    }
   ],
   "source": [
    "#  5b.  How likely is it that it goes two days without getting cleaned? \n",
    "# 31% probability that the breakroom goes two (2) without being cleaned\n",
    "\n",
    "n_trials = 10_000\n",
    "p = 0.03 # probability that 1 out of the students who visit the break-room will clean\n",
    "\n",
    "# what am I given to work with?\n",
    "# probability that someone cleans (probability)\n",
    "# percent of students who visit the break room (value)\n",
    "\n",
    "## this problem can also be expressed as a \"binomial distribution\" \"cleans or doesn't clean\"\n",
    "## note: that you will also have twice (2) as many students visiting the break room\n",
    "# 59 * 2 = 118 students\n",
    "\n",
    "\n",
    "stats.binom(118, 0.03).cdf(2).round(2)"
   ]
  },
  {
   "cell_type": "code",
   "execution_count": 155,
   "metadata": {},
   "outputs": [
    {
     "data": {
      "text/plain": [
       "0.02"
      ]
     },
     "execution_count": 155,
     "metadata": {},
     "output_type": "execute_result"
    }
   ],
   "source": [
    "# 5c.  How likely is it that it goes the entire week without getting cleaned? \n",
    "# 2% probability that the break room goes 1 week without being cleaned\n",
    "\n",
    "stats.binom(395, 0.03).cdf(5).round(2)"
   ]
  },
  {
   "cell_type": "markdown",
   "metadata": {},
   "source": [
    "### 6. You want to get lunch at La Panaderia, but notice that the line is usually very long at lunchtime. \n",
    "\n",
    "    - After several weeks of careful observation, you notice that the average number of people in line when your lunch break starts is normally distributed with a mean of 15 and standard deviation of 3. \n",
    "    \n",
    "    - If it takes 2 minutes for each person to order, and 10 minutes from ordering to getting your food, what is the likelihood that you have at least 15 minutes left to eat your food before you have to go back to class? \n",
    "    \n",
    "    - Assume you have one hour for lunch, and ignore travel time to and from La Panaderia."
   ]
  },
  {
   "cell_type": "code",
   "execution_count": 156,
   "metadata": {},
   "outputs": [
    {
     "data": {
      "text/plain": [
       "0.7976716190363569"
      ]
     },
     "execution_count": 156,
     "metadata": {},
     "output_type": "execute_result"
    }
   ],
   "source": [
    "# 6. what is the likelihood that you have at least 15 minutes left to eat your food before you have to go back to class? \n",
    "\n",
    "# 63% probability that you will have at least 15 minutes left to eat\n",
    "\n",
    "\n",
    "# \"what am I given?\"\n",
    "# mean_in_line = 15 people\n",
    "# std_dev of people = 3\n",
    "# time it takes to order = 2mins\n",
    "# time it takes to get food = 10 mins\n",
    "# lunch break = 1 hour\n",
    "\n",
    "# the problem/question can be set-up as a \"normal distribution\"\n",
    "\n",
    "mean = 15\n",
    "std_dev = 3\n",
    "\n",
    "lunch = stats.norm(mean, std_dev)\n",
    "\n",
    "# next, i'll want to calculate the average time it takes someone to order, receive their food, and have 15 minutes remaining within an hour\n",
    "\n",
    "fifteen_mins_remaining = (60 - 15 - 10) / 2 # diving by \"2\" to denote that everyone in line take 2minutes \n",
    "fifteen_mins_remaining # \"contineous value\" of 17.5 or...\n",
    "# 17.5 minutes it would need to take someone to \n",
    "# 1. wait in line, \n",
    "# 2. order their food, \n",
    "# 3. wait for their food, and...\n",
    "# 4. have 15 minutes remaining to eat their food\n",
    "\n",
    "lunch.cdf(fifteen_mins_remaining)"
   ]
  },
  {
   "cell_type": "code",
   "execution_count": 157,
   "metadata": {},
   "outputs": [],
   "source": [
    "# (class walk-thru) of above exercise\n",
    "# (15, 3) and 16 people (including myself waiting in line)"
   ]
  },
  {
   "cell_type": "code",
   "execution_count": 158,
   "metadata": {},
   "outputs": [],
   "source": [
    "# connecting to SQL employee database\n",
    "# np.diff(salary_norm.cdf([65_000, 80_000]))"
   ]
  },
  {
   "cell_type": "markdown",
   "metadata": {},
   "source": [
    "## Problem #4: Connect to the employees database and find the average salary of current employees, along with the standard deviation. \n",
    "\n",
    "    For the following questions, calculate the answer based on modeling the employees salaries with a normal distribution defined by the calculated mean and standard deviation \n",
    "    then compare this answer to the actual values present in the salaries dataset.\n",
    "\n",
    "- What percent of employees earn less than 60,000?\n",
    "- What percent of employees earn more than 95,000?\n",
    "- What percent of employees earn between 65,000 and 80,000?\n",
    "- What do the top 5% of employees make?"
   ]
  },
  {
   "cell_type": "code",
   "execution_count": 159,
   "metadata": {},
   "outputs": [
    {
     "data": {
      "text/html": [
       "<div>\n",
       "<style scoped>\n",
       "    .dataframe tbody tr th:only-of-type {\n",
       "        vertical-align: middle;\n",
       "    }\n",
       "\n",
       "    .dataframe tbody tr th {\n",
       "        vertical-align: top;\n",
       "    }\n",
       "\n",
       "    .dataframe thead th {\n",
       "        text-align: right;\n",
       "    }\n",
       "</style>\n",
       "<table border=\"1\" class=\"dataframe\">\n",
       "  <thead>\n",
       "    <tr style=\"text-align: right;\">\n",
       "      <th></th>\n",
       "      <th>Tables_in_employees</th>\n",
       "    </tr>\n",
       "  </thead>\n",
       "  <tbody>\n",
       "    <tr>\n",
       "      <th>0</th>\n",
       "      <td>departments</td>\n",
       "    </tr>\n",
       "    <tr>\n",
       "      <th>1</th>\n",
       "      <td>dept_emp</td>\n",
       "    </tr>\n",
       "    <tr>\n",
       "      <th>2</th>\n",
       "      <td>dept_manager</td>\n",
       "    </tr>\n",
       "    <tr>\n",
       "      <th>3</th>\n",
       "      <td>employees</td>\n",
       "    </tr>\n",
       "    <tr>\n",
       "      <th>4</th>\n",
       "      <td>salaries</td>\n",
       "    </tr>\n",
       "    <tr>\n",
       "      <th>5</th>\n",
       "      <td>titles</td>\n",
       "    </tr>\n",
       "  </tbody>\n",
       "</table>\n",
       "</div>"
      ],
      "text/plain": [
       "  Tables_in_employees\n",
       "0         departments\n",
       "1            dept_emp\n",
       "2        dept_manager\n",
       "3           employees\n",
       "4            salaries\n",
       "5              titles"
      ]
     },
     "execution_count": 159,
     "metadata": {},
     "output_type": "execute_result"
    }
   ],
   "source": [
    "# setting up the enviorment and connecting to MySQL database\n",
    "\n",
    "from env import user, password, host, get_db_url\n",
    "url = get_db_url(user, password, host, \"employees\")\n",
    "\n",
    "# I want to now show all tables within the \"employees\" MySQL database\n",
    "# I can run the following code to do so:\n",
    "\n",
    "employees_db_tables = pd.read_sql(\"SHOW TABLES\", url)\n",
    "employees_db_tables\n"
   ]
  },
  {
   "cell_type": "code",
   "execution_count": 160,
   "metadata": {},
   "outputs": [],
   "source": [
    "# I now see the \"salaries\" table that I will want to work with\n",
    "# Therefore, I can create a new \"dataframe\" of the Salaries Table with the following code:\n",
    "\n",
    "salaries_table = pd.read_sql(\"SELECT * FROM salaries\", url)"
   ]
  },
  {
   "cell_type": "code",
   "execution_count": 161,
   "metadata": {},
   "outputs": [
    {
     "data": {
      "text/html": [
       "<div>\n",
       "<style scoped>\n",
       "    .dataframe tbody tr th:only-of-type {\n",
       "        vertical-align: middle;\n",
       "    }\n",
       "\n",
       "    .dataframe tbody tr th {\n",
       "        vertical-align: top;\n",
       "    }\n",
       "\n",
       "    .dataframe thead th {\n",
       "        text-align: right;\n",
       "    }\n",
       "</style>\n",
       "<table border=\"1\" class=\"dataframe\">\n",
       "  <thead>\n",
       "    <tr style=\"text-align: right;\">\n",
       "      <th></th>\n",
       "      <th>emp_no</th>\n",
       "      <th>salary</th>\n",
       "      <th>from_date</th>\n",
       "      <th>to_date</th>\n",
       "    </tr>\n",
       "  </thead>\n",
       "  <tbody>\n",
       "    <tr>\n",
       "      <th>0</th>\n",
       "      <td>10001</td>\n",
       "      <td>60117</td>\n",
       "      <td>1986-06-26</td>\n",
       "      <td>1987-06-26</td>\n",
       "    </tr>\n",
       "    <tr>\n",
       "      <th>1</th>\n",
       "      <td>10001</td>\n",
       "      <td>62102</td>\n",
       "      <td>1987-06-26</td>\n",
       "      <td>1988-06-25</td>\n",
       "    </tr>\n",
       "    <tr>\n",
       "      <th>2</th>\n",
       "      <td>10001</td>\n",
       "      <td>66074</td>\n",
       "      <td>1988-06-25</td>\n",
       "      <td>1989-06-25</td>\n",
       "    </tr>\n",
       "    <tr>\n",
       "      <th>3</th>\n",
       "      <td>10001</td>\n",
       "      <td>66596</td>\n",
       "      <td>1989-06-25</td>\n",
       "      <td>1990-06-25</td>\n",
       "    </tr>\n",
       "    <tr>\n",
       "      <th>4</th>\n",
       "      <td>10001</td>\n",
       "      <td>66961</td>\n",
       "      <td>1990-06-25</td>\n",
       "      <td>1991-06-25</td>\n",
       "    </tr>\n",
       "  </tbody>\n",
       "</table>\n",
       "</div>"
      ],
      "text/plain": [
       "   emp_no  salary   from_date     to_date\n",
       "0   10001   60117  1986-06-26  1987-06-26\n",
       "1   10001   62102  1987-06-26  1988-06-25\n",
       "2   10001   66074  1988-06-25  1989-06-25\n",
       "3   10001   66596  1989-06-25  1990-06-25\n",
       "4   10001   66961  1990-06-25  1991-06-25"
      ]
     },
     "execution_count": 161,
     "metadata": {},
     "output_type": "execute_result"
    }
   ],
   "source": [
    "# running the following code to show the contents of the salaries table/dataframe\n",
    "salaries_table.head()"
   ]
  },
  {
   "cell_type": "code",
   "execution_count": 162,
   "metadata": {},
   "outputs": [
    {
     "data": {
      "text/plain": [
       "9999-01-01    240124\n",
       "1998-10-25      1034\n",
       "1997-10-26       872\n",
       "2002-04-03       821\n",
       "2000-08-26       815\n",
       "               ...  \n",
       "1985-08-29         1\n",
       "1985-06-15         1\n",
       "1986-01-14         1\n",
       "1985-12-08         1\n",
       "1985-11-17         1\n",
       "Name: to_date, Length: 6120, dtype: int64"
      ]
     },
     "execution_count": 162,
     "metadata": {},
     "output_type": "execute_result"
    }
   ],
   "source": [
    "# i now want to create a new table for just \"current employees\"\n",
    "# i can do this by specifying the \"to_date\" column and quering for dates greater than \"today\"\n",
    "# as a good practice, i first want to see the \"unique values\" within this column \n",
    "# alternatively, i could convert all date columns to datetime types and run a operand \">\" today\n",
    "\n",
    "salaries_table.dtypes\n",
    "salaries_table.to_date.value_counts() # here i can see that \"9999-01-01\" is the \"current date\" identifier for this table / company"
   ]
  },
  {
   "cell_type": "code",
   "execution_count": 163,
   "metadata": {},
   "outputs": [],
   "source": [
    "# filtering for current employee salaries only\n",
    "import datetime # importing \"datetime\" here to help filter for current dates\n",
    "salaries_table['is_current'] = salaries_table['to_date'] == datetime.date(9999, 1, 1)"
   ]
  },
  {
   "cell_type": "code",
   "execution_count": 171,
   "metadata": {},
   "outputs": [
    {
     "data": {
      "text/plain": [
       "emp_no       240124\n",
       "salary       240124\n",
       "from_date    240124\n",
       "to_date      240124\n",
       "dtype: int64"
      ]
     },
     "execution_count": 171,
     "metadata": {},
     "output_type": "execute_result"
    }
   ],
   "source": [
    "# (class walkthrough) approach\n",
    "# using the filtering in the SQL query \n",
    "# nice approach \n",
    "# question / feedback - yet, in instances where you may need both current and past salaries\n",
    "# would it be good to instead just pull the entire table and filter for what you're analyzing through pandas/python? (like my approach)\n",
    "\n",
    "\n",
    "query = '''\n",
    "SELECT * \n",
    "FROM salaries \n",
    "WHERE salaries.to_date > NOW()\n",
    "'''\n",
    "\n",
    "df1 = pd.read_sql(query, url)\n",
    "df1.count()"
   ]
  },
  {
   "cell_type": "code",
   "execution_count": 187,
   "metadata": {},
   "outputs": [],
   "source": [
    "current_salaries = salaries_table[salaries_table['is_current'] == True] # checking that only current employees salaries are present\n",
    "# calculating the mean salary for current employees\n",
    "\n",
    "round(current_salaries.salary.mean(), 2)\n",
    "salary_mean = 72012.24"
   ]
  },
  {
   "cell_type": "code",
   "execution_count": 188,
   "metadata": {},
   "outputs": [],
   "source": [
    "# calculating salary standard deviation \n",
    "round(current_salaries.salary.std(), 2)\n",
    "salary_std = 17310.0"
   ]
  },
  {
   "cell_type": "code",
   "execution_count": 189,
   "metadata": {},
   "outputs": [],
   "source": [
    "# now i can create a normal distribution for the current salaries\n",
    "salary_distribution = stats.norm(salary_mean, salary_std)"
   ]
  },
  {
   "cell_type": "code",
   "execution_count": 190,
   "metadata": {},
   "outputs": [
    {
     "name": "stdout",
     "output_type": "stream",
     "text": [
      "24.0% of employees are earning less than $60,000.\n"
     ]
    }
   ],
   "source": [
    "#  What percent of employees earn less than 60,000?\n",
    "\n",
    "print(f'{salary_distribution.cdf(59999).round(2)*100}% of employees are earning less than $60,000.') # since CDF is \"inclusive\" of the input number and i want less than 60K, it should be ~59999K"
   ]
  },
  {
   "cell_type": "code",
   "execution_count": 191,
   "metadata": {},
   "outputs": [
    {
     "name": "stdout",
     "output_type": "stream",
     "text": [
      "9.0% of employees are earning more than $95,000.\n"
     ]
    }
   ],
   "source": [
    "# What percent of employees earn more than 95,000?\n",
    "\n",
    "# since the question calls for \"more than\" 95k and the \"sf()\" survival function is exclusive of the input number, i can include 95K which will not be captured\n",
    "print(f'{salary_distribution.sf(95000).round(2)*100}% of employees are earning more than $95,000.')"
   ]
  },
  {
   "cell_type": "code",
   "execution_count": 192,
   "metadata": {},
   "outputs": [
    {
     "name": "stdout",
     "output_type": "stream",
     "text": [
      "33.5% of employees are earning between $65,000 and $80,000.\n"
     ]
    }
   ],
   "source": [
    "# What percent of employees earn between 65,000 and 80,000?\n",
    "\n",
    "print(f'{(salary_distribution.cdf(80000) - salary_distribution.cdf(65000)).round(3)*100}% of employees are earning between $65,000 and $80,000.')"
   ]
  },
  {
   "cell_type": "code",
   "execution_count": 193,
   "metadata": {},
   "outputs": [
    {
     "name": "stdout",
     "output_type": "stream",
     "text": [
      "The top 5% of employees earn a minimum of $100484.66\n"
     ]
    }
   ],
   "source": [
    "# What do the top 5% of employees make?\n",
    "print(f\"The top 5% of employees earn a minimum of ${salary_distribution.isf(0.05).round(2)}\")"
   ]
  }
 ],
 "metadata": {
  "interpreter": {
   "hash": "40d3a090f54c6569ab1632332b64b2c03c39dcf918b08424e98f38b5ae0af88f"
  },
  "kernelspec": {
   "display_name": "Python 3.9.12 ('base')",
   "language": "python",
   "name": "python3"
  },
  "language_info": {
   "codemirror_mode": {
    "name": "ipython",
    "version": 3
   },
   "file_extension": ".py",
   "mimetype": "text/x-python",
   "name": "python",
   "nbconvert_exporter": "python",
   "pygments_lexer": "ipython3",
   "version": "3.9.12"
  },
  "orig_nbformat": 4
 },
 "nbformat": 4,
 "nbformat_minor": 2
}
