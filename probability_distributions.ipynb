{
 "cells": [
  {
   "cell_type": "code",
   "execution_count": 87,
   "metadata": {},
   "outputs": [],
   "source": [
    "import matplotlib.pyplot as plt\n",
    "import numpy as np\n",
    "import pandas as pd\n",
    "from scipy import stats\n",
    "import viz\n"
   ]
  },
  {
   "cell_type": "markdown",
   "metadata": {},
   "source": [
    "### A bank found that the average number of cars waiting during the noon hour at a drive-up window follows a Poisson distribution with a mean of 2 cars. Make a chart of this distribution and answer these questions concerning the probability of cars waiting at the drive-up window.\n",
    "\n",
    "    What is the probability that no cars drive up in the noon hour?\n",
    "    What is the probability that 3 or more cars come through the drive through?\n",
    "    How likely is it that the drive through gets at least 1 car?"
   ]
  },
  {
   "cell_type": "code",
   "execution_count": 88,
   "metadata": {},
   "outputs": [
    {
     "data": {
      "text/plain": [
       "Text(0.5, 1.0, 'Poisson distribution $λ = 1$')"
      ]
     },
     "execution_count": 88,
     "metadata": {},
     "output_type": "execute_result"
    },
    {
     "data": {
      "image/png": "[encoded data removed]",
      "text/plain": [
       "<Figure size 648x432 with 1 Axes>"
      ]
     },
     "metadata": {
      "needs_background": "light"
     },
     "output_type": "display_data"
    }
   ],
   "source": [
    "λ = 2\n",
    "\n",
    "x = np.arange(0,15)\n",
    "y = stats.poisson(λ).pmf(x)\n",
    "\n",
    "plt.bar(x,y)\n",
    "plt.xlabel('No of Cars Waiting at Noon')\n",
    "plt.ylabel('P(X)')\n",
    "plt.title('Poisson distribution $λ = 1$')"
   ]
  },
  {
   "cell_type": "code",
   "execution_count": 89,
   "metadata": {},
   "outputs": [
    {
     "data": {
      "text/plain": [
       "0.14"
      ]
     },
     "execution_count": 89,
     "metadata": {},
     "output_type": "execute_result"
    }
   ],
   "source": [
    "# 1b. What is the probability that no cars drive up in the noon hour?\n",
    "\n",
    "# 14% probability that no cars drive up in the noon hour\n",
    "stats.poisson(λ).pmf(0).round(2)"
   ]
  },
  {
   "cell_type": "code",
   "execution_count": 90,
   "metadata": {},
   "outputs": [
    {
     "data": {
      "text/plain": [
       "0.32"
      ]
     },
     "execution_count": 90,
     "metadata": {},
     "output_type": "execute_result"
    }
   ],
   "source": [
    "# 1c. What is the probability that 3 or more cars come through the drive through?\n",
    "\n",
    "# 32% probability that 3 or more cars come through the drive-thru\n",
    "lambda_of_cars = stats.poisson(λ)\n",
    "lambda_of_cars.sf(2).round(2)"
   ]
  },
  {
   "cell_type": "code",
   "execution_count": 91,
   "metadata": {},
   "outputs": [
    {
     "data": {
      "text/plain": [
       "0.41"
      ]
     },
     "execution_count": 91,
     "metadata": {},
     "output_type": "execute_result"
    }
   ],
   "source": [
    "# 1d. How likely is it that the drive through gets at least 1 car?\n",
    "\n",
    "# 41% probability that the drive-thru sees at least 1 car\n",
    "lambda_of_cars.cdf(1).round(2)"
   ]
  },
  {
   "cell_type": "markdown",
   "metadata": {},
   "source": [
    "### Grades of State University graduates are normally distributed with a mean of 3.0 and a standard deviation of .3. Calculate the following:\n",
    "\n",
    "    - What grade point average is required to be in the top 5% of the graduating class?\n",
    "    - What GPA constitutes the bottom 15% of the class?\n",
    "    - An eccentric alumnus left scholarship money for students in the third decile from the bottom of their class. \n",
    "    - Determine the range of the third decile. Would a student with a 2.8 grade point average qualify for this scholarship?\n",
    "    - If I have a GPA of 3.5, what percentile am I in?"
   ]
  },
  {
   "cell_type": "code",
   "execution_count": 92,
   "metadata": {},
   "outputs": [],
   "source": [
    "# 2. \n",
    "\n",
    "mean = 3\n",
    "std_dev = 0.3"
   ]
  },
  {
   "cell_type": "code",
   "execution_count": 93,
   "metadata": {},
   "outputs": [
    {
     "data": {
      "text/plain": [
       "3.49"
      ]
     },
     "execution_count": 93,
     "metadata": {},
     "output_type": "execute_result"
    }
   ],
   "source": [
    "# 2a. What grade point average is required to be in the top 5% of the graduating class?\n",
    "\n",
    "# 3.49 GPA = top 5% of class\n",
    "university = stats.norm(mean, std_dev)\n",
    "university.isf(0.05).round(2)"
   ]
  },
  {
   "cell_type": "code",
   "execution_count": 94,
   "metadata": {},
   "outputs": [
    {
     "data": {
      "text/plain": [
       "2.69"
      ]
     },
     "execution_count": 94,
     "metadata": {},
     "output_type": "execute_result"
    }
   ],
   "source": [
    "# 2b. What GPA constitutes the bottom 15% of the class?\n",
    "\n",
    "# 2.69 GPA\n",
    "university.ppf(0.15).round(2)"
   ]
  },
  {
   "cell_type": "code",
   "execution_count": 95,
   "metadata": {},
   "outputs": [],
   "source": [
    "#  2d. An eccentric alumnus left scholarship money for students in the third decile from the bottom of their class. \n",
    "# Determine the range of the third decile.\n",
    "# 3rd Decile from Bottom is in range of 2.75 - 2.84 GPA\n",
    "\n",
    "# Would a student with a 2.8 grade point average qualify for this scholarship?\n",
    "# Yes, a 2.8 GPA would qualify for this scholarship\n",
    "\n",
    "\n",
    "bottom_10 = university.ppf(.1) # 2.62 GPA represents the top 10% of class\n",
    "top_10 = university.isf(.1) # 3.38 GPA represents the top 10% of class"
   ]
  },
  {
   "cell_type": "code",
   "execution_count": 96,
   "metadata": {},
   "outputs": [
    {
     "data": {
      "text/plain": [
       "array([2.74751363, 2.84267985])"
      ]
     },
     "execution_count": 96,
     "metadata": {},
     "output_type": "execute_result"
    }
   ],
   "source": [
    "university.ppf((0.2, 0.3))"
   ]
  },
  {
   "cell_type": "code",
   "execution_count": 97,
   "metadata": {},
   "outputs": [
    {
     "data": {
      "text/plain": [
       "10    3.384465\n",
       "9     3.307572\n",
       "8     3.230679\n",
       "7     3.153786\n",
       "6     3.076893\n",
       "5     3.000000\n",
       "4     2.923107\n",
       "3     2.846214\n",
       "2     2.769321\n",
       "1     2.692428\n",
       "0     2.615535\n",
       "Name: 0, dtype: float64"
      ]
     },
     "execution_count": 97,
     "metadata": {},
     "output_type": "execute_result"
    }
   ],
   "source": [
    "# \"quantile\" approach -- probably not correct ***\n",
    "\n",
    "var = np.array([bottom_10, top_10])\n",
    "quantiles = np.percentile(var, np.arange(0, 101, 10))\n",
    "quantile_df = pd.DataFrame(quantiles)\n",
    "quantile_df = quantile_df[0][::-1] # reversing the order of the column, placing highest quantile first in the order\n",
    "\n",
    "quantile_df\n"
   ]
  },
  {
   "cell_type": "code",
   "execution_count": 98,
   "metadata": {},
   "outputs": [
    {
     "data": {
      "text/plain": [
       "0.95"
      ]
     },
     "execution_count": 98,
     "metadata": {},
     "output_type": "execute_result"
    }
   ],
   "source": [
    "# 2e. If I have a GPA of 3.5, what percentile am I in?\n",
    "\n",
    "# 95% percentile\n",
    "university.cdf(3.5).round(2)"
   ]
  },
  {
   "cell_type": "markdown",
   "metadata": {},
   "source": [
    "### 3. A marketing website has...\n",
    "    - an average click-through rate of 2%\n",
    "    - One day they observe 4326 visitors and 97 click-throughs\n",
    "    - How likely is it that this many people or more click through?"
   ]
  },
  {
   "cell_type": "code",
   "execution_count": 107,
   "metadata": {},
   "outputs": [
    {
     "data": {
      "text/plain": [
       "0.88"
      ]
     },
     "execution_count": 107,
     "metadata": {},
     "output_type": "execute_result"
    }
   ],
   "source": [
    "# 3. binomial distribution\n",
    "\n",
    "# How likely is it that this many people or more click through?\n",
    "\n",
    "# 88% probability that there are 97 or more click throughs given the 4326 number of visitors \n",
    "\n",
    "n_trials = 4326\n",
    "p = 0.02\n",
    "\n",
    "clicks = stats.binom(n_trials, p)\n",
    "clicks.cdf(97).round(2)"
   ]
  }
 ],
 "metadata": {
  "interpreter": {
   "hash": "40d3a090f54c6569ab1632332b64b2c03c39dcf918b08424e98f38b5ae0af88f"
  },
  "kernelspec": {
   "display_name": "Python 3.9.12 ('base')",
   "language": "python",
   "name": "python3"
  },
  "language_info": {
   "codemirror_mode": {
    "name": "ipython",
    "version": 3
   },
   "file_extension": ".py",
   "mimetype": "text/x-python",
   "name": "python",
   "nbconvert_exporter": "python",
   "pygments_lexer": "ipython3",
   "version": "3.9.12"
  },
  "orig_nbformat": 4
 },
 "nbformat": 4,
 "nbformat_minor": 2
}
