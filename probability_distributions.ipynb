{
 "cells": [
  {
   "cell_type": "code",
   "execution_count": 3,
   "metadata": {},
   "outputs": [],
   "source": [
    "import matplotlib.pyplot as plt\n",
    "import numpy as np\n",
    "import pandas as pd\n",
    "from scipy import stats\n",
    "import viz\n"
   ]
  },
  {
   "cell_type": "markdown",
   "metadata": {},
   "source": [
    "### A bank found that the average number of cars waiting during the noon hour at a drive-up window follows a Poisson distribution with a mean of 2 cars. Make a chart of this distribution and answer these questions concerning the probability of cars waiting at the drive-up window.\n",
    "\n",
    "    What is the probability that no cars drive up in the noon hour?\n",
    "    What is the probability that 3 or more cars come through the drive through?\n",
    "    How likely is it that the drive through gets at least 1 car?"
   ]
  },
  {
   "cell_type": "code",
   "execution_count": 4,
   "metadata": {},
   "outputs": [
    {
     "data": {
      "text/plain": [
       "Text(0.5, 1.0, 'Poisson distribution $λ = 1$')"
      ]
     },
     "execution_count": 4,
     "metadata": {},
     "output_type": "execute_result"
    },
    {
     "data": {
      "image/png": "[encoded data removed]",
      "text/plain": [
       "<Figure size 648x432 with 1 Axes>"
      ]
     },
     "metadata": {
      "needs_background": "light"
     },
     "output_type": "display_data"
    }
   ],
   "source": [
    "λ = 2\n",
    "\n",
    "x = np.arange(0,15)\n",
    "y = stats.poisson(λ).pmf(x)\n",
    "\n",
    "plt.bar(x,y)\n",
    "plt.xlabel('No of Cars Waiting at Noon')\n",
    "plt.ylabel('P(X)')\n",
    "plt.title('Poisson distribution $λ = 1$')"
   ]
  },
  {
   "cell_type": "code",
   "execution_count": 5,
   "metadata": {},
   "outputs": [
    {
     "data": {
      "text/plain": [
       "0.14"
      ]
     },
     "execution_count": 5,
     "metadata": {},
     "output_type": "execute_result"
    }
   ],
   "source": [
    "# 1b. What is the probability that no cars drive up in the noon hour?\n",
    "\n",
    "# 14% probability that no cars drive up in the noon hour\n",
    "stats.poisson(λ).pmf(0).round(2)"
   ]
  },
  {
   "cell_type": "code",
   "execution_count": 6,
   "metadata": {},
   "outputs": [
    {
     "data": {
      "text/plain": [
       "0.32"
      ]
     },
     "execution_count": 6,
     "metadata": {},
     "output_type": "execute_result"
    }
   ],
   "source": [
    "# 1c. What is the probability that 3 or more cars come through the drive through?\n",
    "\n",
    "# 32% probability that 3 or more cars come through the drive-thru\n",
    "lambda_of_cars = stats.poisson(λ)\n",
    "lambda_of_cars.sf(2).round(2)"
   ]
  },
  {
   "cell_type": "code",
   "execution_count": 7,
   "metadata": {},
   "outputs": [
    {
     "data": {
      "text/plain": [
       "0.41"
      ]
     },
     "execution_count": 7,
     "metadata": {},
     "output_type": "execute_result"
    }
   ],
   "source": [
    "# 1d. How likely is it that the drive through gets at least 1 car?\n",
    "\n",
    "# 41% probability that the drive-thru sees at least 1 car\n",
    "lambda_of_cars.cdf(1).round(2)"
   ]
  },
  {
   "cell_type": "markdown",
   "metadata": {},
   "source": [
    "### Grades of State University graduates are normally distributed with a mean of 3.0 and a standard deviation of .3. Calculate the following:\n",
    "\n",
    "    - What grade point average is required to be in the top 5% of the graduating class?\n",
    "    - What GPA constitutes the bottom 15% of the class?\n",
    "    - An eccentric alumnus left scholarship money for students in the third decile from the bottom of their class. \n",
    "    - Determine the range of the third decile. Would a student with a 2.8 grade point average qualify for this scholarship?\n",
    "    - If I have a GPA of 3.5, what percentile am I in?"
   ]
  },
  {
   "cell_type": "code",
   "execution_count": 8,
   "metadata": {},
   "outputs": [],
   "source": [
    "# 2. \n",
    "\n",
    "mean = 3\n",
    "std_dev = 0.3"
   ]
  },
  {
   "cell_type": "code",
   "execution_count": 9,
   "metadata": {},
   "outputs": [
    {
     "data": {
      "text/plain": [
       "3.49"
      ]
     },
     "execution_count": 9,
     "metadata": {},
     "output_type": "execute_result"
    }
   ],
   "source": [
    "# 2a. What grade point average is required to be in the top 5% of the graduating class?\n",
    "\n",
    "# 3.49 GPA = top 5% of class\n",
    "university = stats.norm(mean, std_dev)\n",
    "university.isf(0.05).round(2)"
   ]
  },
  {
   "cell_type": "code",
   "execution_count": 10,
   "metadata": {},
   "outputs": [
    {
     "data": {
      "text/plain": [
       "2.69"
      ]
     },
     "execution_count": 10,
     "metadata": {},
     "output_type": "execute_result"
    }
   ],
   "source": [
    "# 2b. What GPA constitutes the bottom 15% of the class?\n",
    "\n",
    "# 2.69 GPA\n",
    "university.ppf(0.15).round(2)"
   ]
  },
  {
   "cell_type": "code",
   "execution_count": 11,
   "metadata": {},
   "outputs": [],
   "source": [
    "#  2d. An eccentric alumnus left scholarship money for students in the third decile from the bottom of their class. \n",
    "# Determine the range of the third decile.\n",
    "# 3rd Decile from Bottom is in range of 2.75 - 2.84 GPA\n",
    "\n",
    "# Would a student with a 2.8 grade point average qualify for this scholarship?\n",
    "# Yes, a 2.8 GPA would qualify for this scholarship\n",
    "\n",
    "\n",
    "bottom_10 = university.ppf(.1) # 2.62 GPA represents the top 10% of class\n",
    "top_10 = university.isf(.1) # 3.38 GPA represents the top 10% of class"
   ]
  },
  {
   "cell_type": "code",
   "execution_count": 39,
   "metadata": {},
   "outputs": [
    {
     "data": {
      "text/plain": [
       "array([0., 1., 0.])"
      ]
     },
     "execution_count": 39,
     "metadata": {},
     "output_type": "execute_result"
    }
   ],
   "source": [
    "university.cdf().round(2)"
   ]
  },
  {
   "cell_type": "code",
   "execution_count": 25,
   "metadata": {},
   "outputs": [
    {
     "data": {
      "text/html": [
       "<div>\n",
       "<style scoped>\n",
       "    .dataframe tbody tr th:only-of-type {\n",
       "        vertical-align: middle;\n",
       "    }\n",
       "\n",
       "    .dataframe tbody tr th {\n",
       "        vertical-align: top;\n",
       "    }\n",
       "\n",
       "    .dataframe thead th {\n",
       "        text-align: right;\n",
       "    }\n",
       "</style>\n",
       "<table border=\"1\" class=\"dataframe\">\n",
       "  <thead>\n",
       "    <tr style=\"text-align: right;\">\n",
       "      <th></th>\n",
       "      <th>0</th>\n",
       "    </tr>\n",
       "  </thead>\n",
       "  <tbody>\n",
       "    <tr>\n",
       "      <th>0</th>\n",
       "      <td>2.441677</td>\n",
       "    </tr>\n",
       "    <tr>\n",
       "      <th>1</th>\n",
       "      <td>2.581257</td>\n",
       "    </tr>\n",
       "    <tr>\n",
       "      <th>2</th>\n",
       "      <td>2.720838</td>\n",
       "    </tr>\n",
       "    <tr>\n",
       "      <th>3</th>\n",
       "      <td>2.860419</td>\n",
       "    </tr>\n",
       "    <tr>\n",
       "      <th>4</th>\n",
       "      <td>3.000000</td>\n",
       "    </tr>\n",
       "    <tr>\n",
       "      <th>5</th>\n",
       "      <td>3.139581</td>\n",
       "    </tr>\n",
       "    <tr>\n",
       "      <th>6</th>\n",
       "      <td>3.279162</td>\n",
       "    </tr>\n",
       "    <tr>\n",
       "      <th>7</th>\n",
       "      <td>3.418743</td>\n",
       "    </tr>\n",
       "    <tr>\n",
       "      <th>8</th>\n",
       "      <td>3.558323</td>\n",
       "    </tr>\n",
       "  </tbody>\n",
       "</table>\n",
       "</div>"
      ],
      "text/plain": [
       "          0\n",
       "0  2.441677\n",
       "1  2.581257\n",
       "2  2.720838\n",
       "3  2.860419\n",
       "4  3.000000\n",
       "5  3.139581\n",
       "6  3.279162\n",
       "7  3.418743\n",
       "8  3.558323"
      ]
     },
     "execution_count": 25,
     "metadata": {},
     "output_type": "execute_result"
    }
   ],
   "source": [
    "# attempting to use numpy's \"percentile\" method to calculate decile\n",
    "\n",
    "top_1 = university.isf(0.01)\n",
    "bottom_1 = university.ppf(0.01)\n",
    "\n",
    "uni_array = np.array([bottom_1, top_1])\n",
    "uni_percentiles = np.percentile(uni_array, np.arange(10, 100, 10))\n",
    "percentiles_df = pd.DataFrame(uni_percentiles)\n",
    "percentiles_df"
   ]
  },
  {
   "cell_type": "code",
   "execution_count": 13,
   "metadata": {},
   "outputs": [
    {
     "data": {
      "text/plain": [
       "array([2.74751363, 2.84267985])"
      ]
     },
     "execution_count": 13,
     "metadata": {},
     "output_type": "execute_result"
    }
   ],
   "source": [
    "university.ppf((0.2, 0.3))"
   ]
  },
  {
   "cell_type": "code",
   "execution_count": 14,
   "metadata": {},
   "outputs": [
    {
     "data": {
      "text/plain": [
       "10    3.384465\n",
       "9     3.307572\n",
       "8     3.230679\n",
       "7     3.153786\n",
       "6     3.076893\n",
       "5     3.000000\n",
       "4     2.923107\n",
       "3     2.846214\n",
       "2     2.769321\n",
       "1     2.692428\n",
       "0     2.615535\n",
       "Name: 0, dtype: float64"
      ]
     },
     "execution_count": 14,
     "metadata": {},
     "output_type": "execute_result"
    }
   ],
   "source": [
    "# \"percentile\" approach -- probably not correct? ***\n",
    "\n",
    "var = np.array([bottom_10, top_10])\n",
    "quantiles = np.percentile(var, np.arange(0, 101, 10))\n",
    "quantile_df = pd.DataFrame(quantiles)\n",
    "quantile_df = quantile_df[0][::-1] # reversing the order of the column, placing highest quantile first in the order\n",
    "\n",
    "quantile_df\n"
   ]
  },
  {
   "cell_type": "code",
   "execution_count": 15,
   "metadata": {},
   "outputs": [
    {
     "data": {
      "text/plain": [
       "0.95"
      ]
     },
     "execution_count": 15,
     "metadata": {},
     "output_type": "execute_result"
    }
   ],
   "source": [
    "# 2e. If I have a GPA of 3.5, what percentile am I in?\n",
    "\n",
    "# 95% percentile\n",
    "university.cdf(3.5).round(2)"
   ]
  },
  {
   "cell_type": "markdown",
   "metadata": {},
   "source": [
    "### 3. A marketing website has...\n",
    "    - an average click-through rate of 2%\n",
    "    - One day they observe 4326 visitors and 97 click-throughs\n",
    "    - How likely is it that this many people or more click through?"
   ]
  },
  {
   "cell_type": "code",
   "execution_count": 16,
   "metadata": {},
   "outputs": [
    {
     "data": {
      "text/plain": [
       "0.88"
      ]
     },
     "execution_count": 16,
     "metadata": {},
     "output_type": "execute_result"
    }
   ],
   "source": [
    "# 3. binomial distribution\n",
    "\n",
    "# How likely is it that this many people or more click through?\n",
    "\n",
    "# 88% probability that there are 97 or more click throughs given the 4326 number of visitors \n",
    "\n",
    "n_trials = 4326\n",
    "p = 0.02\n",
    "\n",
    "clicks = stats.binom(n_trials, p)\n",
    "clicks.cdf(97).round(2)"
   ]
  },
  {
   "cell_type": "code",
   "execution_count": 109,
   "metadata": {},
   "outputs": [
    {
     "data": {
      "text/plain": [
       "0.98"
      ]
     },
     "execution_count": 109,
     "metadata": {},
     "output_type": "execute_result"
    }
   ],
   "source": [
    "# 4. You are working on some statistics homework consisting of 100 questions where all of the answers are a probability rounded to the hundreths place. \n",
    "# Looking to save time, you put down random probabilities as the answer to each question.\n",
    "\n",
    "n_questions = 100\n",
    "p_questions = 0.50\n",
    "\n",
    "test = stats.binom(n_questions, p_questions)\n",
    "\n",
    "test.cdf(60).round(2)\n",
    "\n",
    "# What is the probability that at least one of your first 60 answers is correct?\n",
    "# 98% probability that at least one out of the first 60 questions / answers will be correct\n",
    "\n",
    "# Binomial Distribution --> where there is a \"correct\" and \"incorrect\" answer"
   ]
  },
  {
   "cell_type": "code",
   "execution_count": 110,
   "metadata": {},
   "outputs": [
    {
     "data": {
      "text/plain": [
       "1.0"
      ]
     },
     "execution_count": 110,
     "metadata": {},
     "output_type": "execute_result"
    }
   ],
   "source": [
    "n_trials = 10_000\n",
    "n_questions = 100\n",
    "p_questions = 0.50\n",
    "\n",
    "test = np.random.choice([0, 1], size=(n_trials, n_questions), p = [p_questions, p_questions])\n",
    "\n",
    "(test[:61].sum(axis=1) >= 1).mean()"
   ]
  },
  {
   "cell_type": "code",
   "execution_count": 105,
   "metadata": {},
   "outputs": [
    {
     "data": {
      "text/plain": [
       "1.0"
      ]
     },
     "execution_count": 105,
     "metadata": {},
     "output_type": "execute_result"
    }
   ],
   "source": [
    "n_trials = 10_000\n",
    "n_questions = 100\n",
    "p_questions = 0.50\n",
    "\n",
    "test = np.random.choice([0, 1], size=(n_trials, n_questions), p = [p_questions, p_questions])\n",
    "\n",
    "test_df = pd.DataFrame(test)\n",
    "\n",
    "(test_df.iloc[:,range(0, 61)].sum(axis=1) >= 1).mean()"
   ]
  },
  {
   "cell_type": "markdown",
   "metadata": {},
   "source": [
    " ### The codeup staff tends to get upset when the student break area is not cleaned up. \n",
    " \n",
    "    - Suppose that there's a 3% chance that any one student cleans the break area when they visit it, and, on any given day, \n",
    "    \n",
    "    - about 90% of the 3 active cohorts of 22 students visit the break area\n",
    "    \n",
    "    - How likely is it that the break area gets cleaned up each day? \n",
    "    \n",
    "    - How likely is it that it goes two days without getting cleaned up? \n",
    "    \n",
    "    - All week?\n"
   ]
  },
  {
   "cell_type": "code",
   "execution_count": 128,
   "metadata": {},
   "outputs": [
    {
     "data": {
      "text/plain": [
       "0.843"
      ]
     },
     "execution_count": 128,
     "metadata": {},
     "output_type": "execute_result"
    }
   ],
   "source": [
    "#  5a.  How likely is it that the break area gets cleaned up each day? \n",
    "# 84% chance that the break room is cleaned-up every day\n",
    "\n",
    "n_trials = 10_000\n",
    "p = 0.03\n",
    "\n",
    "# where \"0\" represents \"doesn't clean\" and \"1\" represents \"cleans\"\n",
    "cleanup = np.random.choice([0, 1], size=(n_trials, 60), p=[0.97, 0.03])\n",
    "(cleanup.sum(axis=1) >= 1).mean()"
   ]
  },
  {
   "cell_type": "code",
   "execution_count": null,
   "metadata": {},
   "outputs": [],
   "source": [
    "# (class walkthru)\n",
    "\n"
   ]
  },
  {
   "cell_type": "code",
   "execution_count": 135,
   "metadata": {},
   "outputs": [
    {
     "data": {
      "text/plain": [
       "1.0"
      ]
     },
     "execution_count": 135,
     "metadata": {},
     "output_type": "execute_result"
    }
   ],
   "source": [
    "#  5b.  How likely is it that it goes two days without getting cleaned? \n",
    "\n",
    "n_trials = 10_000\n",
    "p = 0.03 # probability that 1 out of the students who visit the break-room will clean\n",
    "\n",
    "# what am I given to work with?\n",
    "# probability that someone cleans (probability)\n",
    "# percent of students who visit the break room (value)\n",
    "\n",
    "## this problem can also be expressed as a \"binomial distribution\" \"cleans or doesn't clean\"\n",
    "\n"
   ]
  },
  {
   "cell_type": "code",
   "execution_count": null,
   "metadata": {},
   "outputs": [],
   "source": [
    "# 5c.  How likely is it that it goes the entire week without getting cleaned? \n",
    "\n"
   ]
  },
  {
   "cell_type": "markdown",
   "metadata": {},
   "source": [
    "### 6. You want to get lunch at La Panaderia, but notice that the line is usually very long at lunchtime. \n",
    "\n",
    "    - After several weeks of careful observation, you notice that the average number of people in line when your lunch break starts is normally distributed with a mean of 15 and standard deviation of 3. \n",
    "    \n",
    "    - If it takes 2 minutes for each person to order, and 10 minutes from ordering to getting your food, what is the likelihood that you have at least 15 minutes left to eat your food before you have to go back to class? \n",
    "    \n",
    "    - Assume you have one hour for lunch, and ignore travel time to and from La Panaderia."
   ]
  },
  {
   "cell_type": "code",
   "execution_count": 145,
   "metadata": {},
   "outputs": [
    {
     "data": {
      "text/plain": [
       "0.7976716190363569"
      ]
     },
     "execution_count": 145,
     "metadata": {},
     "output_type": "execute_result"
    }
   ],
   "source": [
    "# 6. what is the likelihood that you have at least 15 minutes left to eat your food before you have to go back to class? \n",
    "\n",
    "# 63% probability that you will have at least 15 minutes left to eat\n",
    "\n",
    "\n",
    "# \"what am I given?\"\n",
    "# mean_in_line = 15 people\n",
    "# std_dev of people = 3\n",
    "# time it takes to order = 2mins\n",
    "# time it takes to get food = 10 mins\n",
    "# lunch break = 1 hour\n",
    "\n",
    "# the problem/question can be set-up as a \"normal distribution\"\n",
    "\n",
    "mean = 15\n",
    "std_dev = 3\n",
    "\n",
    "lunch = stats.norm(mean, std_dev)\n",
    "\n",
    "# next, i'll want to calculate the average time it takes someone to order, receive their food, and have 15 minutes remaining within an hour\n",
    "\n",
    "fifteen_mins_remaining = (60 - 15 - 10) / 2 # diving by \"2\" to denote that everyone in line take 2minutes \n",
    "fifteen_mins_remaining # \"contineous value\" of 17.5 or...\n",
    "# 17.5 minutes it would need to take someone to \n",
    "# 1. wait in line, \n",
    "# 2. order their food, \n",
    "# 3. wait for their food, and...\n",
    "# 4. have 15 minutes remaining to eat their food\n",
    "\n",
    "lunch.cdf(fifteen_mins_remaining)"
   ]
  },
  {
   "cell_type": "code",
   "execution_count": 143,
   "metadata": {},
   "outputs": [
    {
     "data": {
      "text/plain": [
       "0.741"
      ]
     },
     "execution_count": 143,
     "metadata": {},
     "output_type": "execute_result"
    }
   ],
   "source": []
  },
  {
   "cell_type": "code",
   "execution_count": null,
   "metadata": {},
   "outputs": [],
   "source": []
  }
 ],
 "metadata": {
  "interpreter": {
   "hash": "40d3a090f54c6569ab1632332b64b2c03c39dcf918b08424e98f38b5ae0af88f"
  },
  "kernelspec": {
   "display_name": "Python 3.9.12 ('base')",
   "language": "python",
   "name": "python3"
  },
  "language_info": {
   "codemirror_mode": {
    "name": "ipython",
    "version": 3
   },
   "file_extension": ".py",
   "mimetype": "text/x-python",
   "name": "python",
   "nbconvert_exporter": "python",
   "pygments_lexer": "ipython3",
   "version": "3.9.12"
  },
  "orig_nbformat": 4
 },
 "nbformat": 4,
 "nbformat_minor": 2
}
