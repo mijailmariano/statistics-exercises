{
 "cells": [
  {
   "cell_type": "code",
   "execution_count": 1,
   "metadata": {},
   "outputs": [],
   "source": [
    "import numpy as np\n",
    "import pandas as pd\n",
    "import matplotlib.pyplot as plt\n",
    "\n",
    "import viz # curriculum example visualizations\n",
    "\n",
    "np.random.seed(29)\n"
   ]
  },
  {
   "cell_type": "code",
   "execution_count": 46,
   "metadata": {},
   "outputs": [
    {
     "data": {
      "text/plain": [
       "16.0"
      ]
     },
     "execution_count": 46,
     "metadata": {},
     "output_type": "execute_result"
    }
   ],
   "source": [
    "# 1. How likely is it that you roll doubles when rolling two dice?\n",
    "# ~16% probability of rolling 2 die of equal value\n",
    "\n",
    "\n",
    "die = [1, 2, 3, 4, 5, 6]\n",
    "ntrials = 10_000\n",
    "\n",
    "roll1 = np.random.choice(die, size=(ntrials, 1))\n",
    "roll2 = np.random.choice(die, size=(ntrials, 1))\n",
    "(roll1.sum(axis=1) == roll2.sum(axis=1)).mean().round(2)*100"
   ]
  },
  {
   "cell_type": "code",
   "execution_count": 53,
   "metadata": {},
   "outputs": [
    {
     "data": {
      "text/plain": [
       "0.22"
      ]
     },
     "execution_count": 53,
     "metadata": {},
     "output_type": "execute_result"
    }
   ],
   "source": [
    "# 2a. If you flip 8 coins, what is the probability of getting exactly 3 heads? \n",
    "\n",
    "# 21% probability of getting exactly 3 heads\n",
    "\n",
    "\n",
    "coin_outcome = [0, 1] # where tail = 0 and heads = 1\n",
    "ntrials = 10_000\n",
    "\n",
    "coin_flip = np.random.choice(coin_outcome, size=(ntrials, 8))\n",
    "(coin_flip.sum(axis=1) == 3).mean().round(2)"
   ]
  },
  {
   "cell_type": "code",
   "execution_count": 54,
   "metadata": {},
   "outputs": [
    {
     "data": {
      "text/plain": [
       "0.63"
      ]
     },
     "execution_count": 54,
     "metadata": {},
     "output_type": "execute_result"
    }
   ],
   "source": [
    "# 2b. What is the probability of getting more than 3 heads?\n",
    "\n",
    "# 63% probability of getting more than 3 heads\n",
    "\n",
    "\n",
    "coin_outcome = [0, 1] # where tail = 0 and heads = 1\n",
    "ntrials = 10_000\n",
    "\n",
    "coin_flip = np.random.choice(coin_outcome, size=(ntrials, 8))\n",
    "(coin_flip.sum(axis=1) > 3).mean().round(2)"
   ]
  },
  {
   "cell_type": "code",
   "execution_count": 58,
   "metadata": {},
   "outputs": [
    {
     "data": {
      "text/plain": [
       "0.07"
      ]
     },
     "execution_count": 58,
     "metadata": {},
     "output_type": "execute_result"
    }
   ],
   "source": [
    "# 3. There are approximitely 3 web development cohorts for every 1 data science cohort at Codeup. \n",
    "# Assuming that Codeup randomly selects an alumni to put on a billboard, \n",
    "# What are the odds that the two billboards I drive past both have data science students on them?\n",
    "\n",
    "# 7% probability that the two (2) billboards you pass will have solely data science alums\n",
    "\n",
    "ntrials = 10_000\n",
    "billboard_outcome = [0, 0, 0, 1] # where 0 is = 'web_dev' and 1 = 'data_science' a ratio of 3:1\n",
    "\n",
    "two_ds_billboards = np.random.choice(billboard_outcome, size=(ntrials, 2))\n",
    "\n",
    "(two_ds_billboards.sum(axis=1) == 2).mean().round(2)"
   ]
  },
  {
   "cell_type": "code",
   "execution_count": null,
   "metadata": {},
   "outputs": [],
   "source": [
    "# 4. Codeup students buy, on average, 3 poptart packages with a standard deviation of 1.5 a day from the snack vending machine. \n",
    "# If on monday the machine is restocked with 17 poptart packages, how likely is it that I will be able to buy some poptarts on Friday afternoon? (Remember, if you have mean and standard deviation, use the np.random.normal) You'll need to make a judgement call on how to handle some of your values\n"
   ]
  }
 ],
 "metadata": {
  "interpreter": {
   "hash": "40d3a090f54c6569ab1632332b64b2c03c39dcf918b08424e98f38b5ae0af88f"
  },
  "kernelspec": {
   "display_name": "Python 3.9.12 ('base')",
   "language": "python",
   "name": "python3"
  },
  "language_info": {
   "codemirror_mode": {
    "name": "ipython",
    "version": 3
   },
   "file_extension": ".py",
   "mimetype": "text/x-python",
   "name": "python",
   "nbconvert_exporter": "python",
   "pygments_lexer": "ipython3",
   "version": "3.9.12"
  },
  "orig_nbformat": 4
 },
 "nbformat": 4,
 "nbformat_minor": 2
}
