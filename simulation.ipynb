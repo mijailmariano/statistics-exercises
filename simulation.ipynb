{
 "cells": [
  {
   "cell_type": "code",
   "execution_count": 3,
   "metadata": {},
   "outputs": [],
   "source": [
    "import numpy as np\n",
    "import pandas as pd\n",
    "import matplotlib.pyplot as plt\n",
    "\n",
    "import viz # curriculum example visualizations\n",
    "\n",
    "np.random.seed(29)"
   ]
  },
  {
   "cell_type": "code",
   "execution_count": 46,
   "metadata": {},
   "outputs": [
    {
     "data": {
      "text/plain": [
       "16.0"
      ]
     },
     "execution_count": 46,
     "metadata": {},
     "output_type": "execute_result"
    }
   ],
   "source": [
    "# 1. How likely is it that you roll doubles when rolling two dice?\n",
    "# ~16% probability of rolling 2 dice of equal value\n",
    "\n",
    "\n",
    "die = [1, 2, 3, 4, 5, 6]\n",
    "ntrials = 10_000\n",
    "\n",
    "roll1 = np.random.choice(die, size=(ntrials, 1))\n",
    "roll2 = np.random.choice(die, size=(ntrials, 1))\n",
    "(roll1.sum(axis=1) == roll2.sum(axis=1)).mean().round(2)*100"
   ]
  },
  {
   "cell_type": "code",
   "execution_count": 10,
   "metadata": {},
   "outputs": [
    {
     "data": {
      "text/plain": [
       "0.167"
      ]
     },
     "execution_count": 10,
     "metadata": {},
     "output_type": "execute_result"
    }
   ],
   "source": [
    "# class walkthru (2 dimensional array)\n",
    "\n",
    "rolls = np.random.choice([1, 2, 3, 4, 5, 6], size = (10_000, 2))\n",
    "\n",
    "(rolls[:, 0] == rolls[:, 1]).mean() # comparing columns, which in this case are rolls"
   ]
  },
  {
   "cell_type": "code",
   "execution_count": 11,
   "metadata": {},
   "outputs": [
    {
     "data": {
      "text/plain": [
       "array([[1, 1],\n",
       "       [2, 1],\n",
       "       [2, 4],\n",
       "       ...,\n",
       "       [6, 4],\n",
       "       [2, 1],\n",
       "       [6, 5]])"
      ]
     },
     "execution_count": 11,
     "metadata": {},
     "output_type": "execute_result"
    }
   ],
   "source": [
    "n_trials = n_rows = 10_000\n",
    "n_dice_rolls = n_cols = 2\n",
    "\n",
    "rolls = np.random.choice([1, 2, 3, 4, 5, 6], size=(n_trials, n_dice_rolls))\n",
    "rolls\n"
   ]
  },
  {
   "cell_type": "code",
   "execution_count": 13,
   "metadata": {},
   "outputs": [
    {
     "data": {
      "text/plain": [
       "0.21"
      ]
     },
     "execution_count": 13,
     "metadata": {},
     "output_type": "execute_result"
    }
   ],
   "source": [
    "# 2a. If you flip 8 coins, what is the probability of getting exactly 3 heads? \n",
    "\n",
    "# 21% probability of getting exactly 3 heads\n",
    "\n",
    "\n",
    "coin_outcome = [0, 1] # where tail = 0 and heads = 1\n",
    "ntrials = 10_000\n",
    "\n",
    "coin_flip = np.random.choice(coin_outcome, size=(ntrials, 8))\n",
    "(coin_flip.sum(axis=1) == 3).mean().round(2)"
   ]
  },
  {
   "cell_type": "code",
   "execution_count": 332,
   "metadata": {},
   "outputs": [
    {
     "data": {
      "text/plain": [
       "0.6385"
      ]
     },
     "execution_count": 332,
     "metadata": {},
     "output_type": "execute_result"
    }
   ],
   "source": [
    "# class walkthru\n",
    "\n",
    "# where \"0\" = tails, and \"1\" = heads\n",
    "flips = np.random.choice([0, 1], size=(10_000, 8))\n",
    "flips\n",
    "\n",
    "# probability of getting exactly 3 heads\n",
    "(flips.sum(axis=1) == 3).mean()\n",
    "\n",
    "# probability of getting MORE (greater than 3 heads)\n",
    "(flips.sum(axis=1) > 3).mean()"
   ]
  },
  {
   "cell_type": "code",
   "execution_count": 54,
   "metadata": {},
   "outputs": [
    {
     "data": {
      "text/plain": [
       "0.63"
      ]
     },
     "execution_count": 54,
     "metadata": {},
     "output_type": "execute_result"
    }
   ],
   "source": [
    "# 2b. What is the probability of getting more than 3 heads?\n",
    "\n",
    "# 63% probability of getting more than 3 heads\n",
    "\n",
    "\n",
    "coin_outcome = [0, 1] # where tail = 0 and heads = 1\n",
    "ntrials = 10_000\n",
    "\n",
    "coin_flip = np.random.choice(coin_outcome, size=(ntrials, 8))\n",
    "(coin_flip.sum(axis=1) > 3).mean().round(2)"
   ]
  },
  {
   "cell_type": "code",
   "execution_count": 58,
   "metadata": {},
   "outputs": [
    {
     "data": {
      "text/plain": [
       "0.07"
      ]
     },
     "execution_count": 58,
     "metadata": {},
     "output_type": "execute_result"
    }
   ],
   "source": [
    "# 3. There are approximitely 3 web development cohorts for every 1 data science cohort at Codeup. \n",
    "# Assuming that Codeup randomly selects an alumni to put on a billboard, \n",
    "# What are the odds that the two billboards I drive past both have data science students on them?\n",
    "\n",
    "# 7% probability that the two (2) billboards you pass will have solely data science students\n",
    "\n",
    "ntrials = 10_000\n",
    "billboard_outcome = [0, 0, 0, 1] # where 0 is = 'web_dev' and 1 = 'data_science' a ratio of 3:1\n",
    "\n",
    "two_ds_billboards = np.random.choice(billboard_outcome, size=(ntrials, 2))\n",
    "\n",
    "(two_ds_billboards.sum(axis=1) == 2).mean().round(2)"
   ]
  },
  {
   "cell_type": "code",
   "execution_count": 334,
   "metadata": {},
   "outputs": [
    {
     "data": {
      "text/plain": [
       "0.0606"
      ]
     },
     "execution_count": 334,
     "metadata": {},
     "output_type": "execute_result"
    }
   ],
   "source": [
    "# class walkthru\n",
    "\n",
    "# where \"0\" = \"web_development_student\", and \"1\" = \"data_science_student\"\n",
    "\n",
    "bill_board = np.random.choice([0, 1], size=(10_000, 2), p=[0.75, 0.25])\n",
    "bill_board\n",
    "\n",
    "(bill_board.sum(axis=1) == 2).mean()"
   ]
  },
  {
   "cell_type": "code",
   "execution_count": 340,
   "metadata": {},
   "outputs": [
    {
     "data": {
      "text/plain": [
       "0.72"
      ]
     },
     "execution_count": 340,
     "metadata": {},
     "output_type": "execute_result"
    }
   ],
   "source": [
    "# 4. Codeup students buy, on average, 3 poptart packages with a standard deviation of 1.5 a day from the snack vending machine. \n",
    "# If on monday the machine is restocked with 17 poptart packages, how likely is it that I will be able to buy some poptarts on Friday afternoon? \n",
    "# (Remember, if you have mean and standard deviation, use the np.random.normal) \n",
    "# You'll need to make a judgement call on how to handle some of your values\n",
    "\n",
    "# 72% probability that there will be a poptart waiting for you on Friday\n",
    "\n",
    "ntrials = 10_000\n",
    "avg_poptarts = 3\n",
    "std_of_poptarts = 1.5\n",
    "monday_restock = 17\n",
    "\n",
    "# where \"loc =\" in np.random.normal refers to the mean of the distribution \n",
    "# where \"scale =\" in np.random.normal refers to the standard deviation of the distribution\n",
    "\n",
    "p_friday_poptarts = np.random.normal(loc=avg_poptarts, scale=std_of_poptarts, size=(ntrials, 5))\n",
    "(p_friday_poptarts.sum(axis=1) < 17).mean().round(2)\n",
    "\n",
    "# abs(avg_poptarts - np.mean(p_friday_poptarts)) # verifying the mean == 0, which it does"
   ]
  },
  {
   "cell_type": "code",
   "execution_count": 337,
   "metadata": {},
   "outputs": [
    {
     "data": {
      "text/plain": [
       "0.7184"
      ]
     },
     "execution_count": 337,
     "metadata": {},
     "output_type": "execute_result"
    }
   ],
   "source": [
    "# class walkthru\n",
    "\n",
    "pop = np.random.normal(3, 1.5, size=(10_000, 5))\n",
    "\n",
    "(pop.sum(axis=1) < 17).mean() # why would it not be <= 17 poptarts??"
   ]
  },
  {
   "cell_type": "code",
   "execution_count": 110,
   "metadata": {},
   "outputs": [
    {
     "data": {
      "text/plain": [
       "0.21"
      ]
     },
     "execution_count": 110,
     "metadata": {},
     "output_type": "execute_result"
    }
   ],
   "source": [
    "# 5.\n",
    "# Compare Heights\n",
    "\n",
    "# Men have an average height of 178 cm and standard deviation of 8cm.\n",
    "# Women have a mean of 170, sd = 6cm.\n",
    "# Since you have means and standard deviations, you can use np.random.normal to generate observations.\n",
    "# If a man and woman are chosen at random, what is the likelihood the woman is taller than the man?\n",
    "\n",
    "# there is a 21% probability that if selected at random, a woman will be taller than a randomly selected man\n",
    "\n",
    "men_ht_mean = 178\n",
    "men_ht_std = 8\n",
    "\n",
    "women_ht_mean = 170\n",
    "women_ht_std = 6\n",
    "\n",
    "dist_men_ht = np.random.normal(loc=men_ht_mean, scale=men_ht_std, size=(ntrials, 1))\n",
    "dist_women_ht = np.random.normal(loc=women_ht_mean, scale=women_ht_std, size=(ntrials, 1))\n",
    "\n",
    "dist_women_ht # I am checking to see my values in the women ht distribution in 10,000 observations\n",
    "\n",
    "# next, I will get the \"randon\" - sum, average of distribution_women_ht where a woman's height is greater than a mans'\n",
    "\n",
    "(dist_women_ht.sum(axis=1) > dist_men_ht.sum(axis=1)).mean().round(2)"
   ]
  },
  {
   "cell_type": "code",
   "execution_count": 342,
   "metadata": {},
   "outputs": [
    {
     "data": {
      "text/plain": [
       "0.2161"
      ]
     },
     "execution_count": 342,
     "metadata": {},
     "output_type": "execute_result"
    }
   ],
   "source": [
    "# class walkthru\n",
    "\n",
    "men = np.random.normal(178, 8, size=10_000)\n",
    "women = np.random.normal(170, 6, size=10_000)\n",
    "\n",
    "(women > men).mean()"
   ]
  },
  {
   "cell_type": "code",
   "execution_count": 249,
   "metadata": {},
   "outputs": [
    {
     "data": {
      "text/plain": [
       "0.8207"
      ]
     },
     "execution_count": 249,
     "metadata": {},
     "output_type": "execute_result"
    }
   ],
   "source": [
    "# 6. \n",
    "# When installing anaconda on a student's computer, there's a 1 in 250 chance that the download is corrupted and the installation fails. \n",
    "# What are the odds that after having 50 students download anaconda, no one has an installation issue? \n",
    "\n",
    "# 82% probability that 50 students in a class will NOT have an installation fail\n",
    "\n",
    "# 100 students?\n",
    "# 67% probability that 100 students in a class will NOT have an installation fail\n",
    "\n",
    "ntrials = 10_000 # \"normalizing\" the distribution\n",
    "anaconda_fails = [0, 1] # where \"0\" represents successful install & \"1\" represents a anaconda crash / unsuccesful install\n",
    "\n",
    "# next - I will need to set the \"p =\" or probability parameter to ea. option in the list and ensuring it equals to 1 or 100%\n",
    "dist_no_install_issue = np.random.choice(anaconda_fails, size=(ntrials, 50), p=[0.996, 0.004]) \n",
    "(dist_no_install_issue.sum(axis=1) == 0).mean()"
   ]
  },
  {
   "cell_type": "code",
   "execution_count": 346,
   "metadata": {},
   "outputs": [
    {
     "data": {
      "text/plain": [
       "0.8171"
      ]
     },
     "execution_count": 346,
     "metadata": {},
     "output_type": "execute_result"
    }
   ],
   "source": [
    "# class walkthru\n",
    "# where \"0\" = \"no issues\", \"1\" = \"issue\"\n",
    "\n",
    "# probability of no install failures/issues with 50 students \n",
    "install = np.random.choice([0, 1], size=(10_000, 50), p=[249/250, 1/250])\n",
    "install\n",
    "\n",
    "(install.sum(axis=1) == 0).mean()"
   ]
  },
  {
   "cell_type": "code",
   "execution_count": 179,
   "metadata": {},
   "outputs": [
    {
     "data": {
      "text/plain": [
       "0.6718"
      ]
     },
     "execution_count": 179,
     "metadata": {},
     "output_type": "execute_result"
    }
   ],
   "source": [
    "ntrials = 10_000 # \"normalizing\" the distribution\n",
    "anaconda_fails = [0, 1] # where \"0\" represents successful install & \"1\" represents an anaconda crash / unsuccesful install\n",
    "\n",
    "# next - I will need to set the \"p =\" or probability parameter to ea. option in the list and ensuring it equals to 1 or 100%\n",
    "dist_no_install_issue = np.random.choice(anaconda_fails, size=(ntrials, 100), p=[0.996, 0.004]) # with 100 students, the odds of success should decrease given the higher number of \"instances\" or students attempting to installing the anaconda module\n",
    "(dist_no_install_issue.sum(axis=1) == 0).mean()"
   ]
  },
  {
   "cell_type": "code",
   "execution_count": 348,
   "metadata": {},
   "outputs": [
    {
     "data": {
      "text/plain": [
       "0.6691"
      ]
     },
     "execution_count": 348,
     "metadata": {},
     "output_type": "execute_result"
    }
   ],
   "source": [
    "# probability of no install failures with 100 students\n",
    "install_100_students = np.random.choice([0, 1], size=(10_000, 100), p=[249/250, 1/250])\n",
    "install_100_students\n",
    "\n",
    "(install_100_students.sum(axis=1) == 0).mean()"
   ]
  },
  {
   "cell_type": "code",
   "execution_count": 259,
   "metadata": {},
   "outputs": [
    {
     "data": {
      "text/plain": [
       "0.45"
      ]
     },
     "execution_count": 259,
     "metadata": {},
     "output_type": "execute_result"
    }
   ],
   "source": [
    "# 6. continued\n",
    "\n",
    "# What is the probability that we observe an installation issue within the first 150 students that download anaconda?\n",
    "\n",
    "# 33% probability that we encounter atleast 1 installation fail within the first 150 students that download the anaconda module\n",
    "\n",
    "ntrials = 10_000\n",
    "anaconda_fails = [0, 1] # where \"0\" represents successful install & \"1\" represents a anaconda crash / unsuccesful install\n",
    "\n",
    "# numerator == rows (+)\n",
    "# demoninator == columns (-)\n",
    "\n",
    "# 1 out of 250  or \"1/250\" can be expressed as 1 row (trial) and 250 columns (students)\n",
    "\n",
    "dist_no_install_issue = np.random.choice(anaconda_fails, size=(ntrials, 150), p=[0.996, 0.004])\n",
    "(dist_no_install_issue.sum(axis=1) > 0).mean().round(2)"
   ]
  },
  {
   "cell_type": "code",
   "execution_count": 351,
   "metadata": {},
   "outputs": [
    {
     "data": {
      "text/plain": [
       "0.4519"
      ]
     },
     "execution_count": 351,
     "metadata": {},
     "output_type": "execute_result"
    }
   ],
   "source": [
    "# probability of 150 students who will have an installation issue\n",
    "\n",
    "install_150_students = np.random.choice([0, 1], size=(10_000, 150), p=[249/250, 1/250])\n",
    "install_150_students\n",
    "\n",
    "(install_150_students.sum(axis=1) > 0).mean()"
   ]
  },
  {
   "cell_type": "code",
   "execution_count": 252,
   "metadata": {},
   "outputs": [
    {
     "data": {
      "text/plain": [
       "0.16"
      ]
     },
     "execution_count": 252,
     "metadata": {},
     "output_type": "execute_result"
    }
   ],
   "source": [
    "# 6. continued\n",
    "\n",
    "# How likely is it that 450 students all download anaconda without an issue?\n",
    "\n",
    "# 16% probability that we DO NOT encounter an installation fail within the first 450 students\n",
    "\n",
    "ntrials = 10_000\n",
    "anaconda_fails = [0, 1] # where \"0\" represents successful install & \"1\" represents a anaconda crash / unsuccesful install\n",
    "\n",
    "dist_no_install_issue = np.random.choice(anaconda_fails, size=(ntrials, 450), p=[0.996, 0.004]) # with 100 students, the odds of success should decrease given the higher number of \"instances\" or students attempting to installing the anaconda module\n",
    "(dist_no_install_issue.sum(axis=1) == 0).mean().round(2)"
   ]
  },
  {
   "cell_type": "code",
   "execution_count": 352,
   "metadata": {},
   "outputs": [
    {
     "data": {
      "text/plain": [
       "0.1642"
      ]
     },
     "execution_count": 352,
     "metadata": {},
     "output_type": "execute_result"
    }
   ],
   "source": [
    "# (class walkthru) probability of 450 students NOT encountering an installation issue \n",
    "\n",
    "install_450_students = np.random.choice([0, 1], size=(10_000, 450), p=[249/250, 1/250])\n",
    "install_450_students\n",
    "\n",
    "(install_450_students.sum(axis=1) == 0).mean()"
   ]
  },
  {
   "cell_type": "code",
   "execution_count": 253,
   "metadata": {},
   "outputs": [
    {
     "data": {
      "text/plain": [
       "0.03"
      ]
     },
     "execution_count": 253,
     "metadata": {},
     "output_type": "execute_result"
    }
   ],
   "source": [
    "# 7. There's a 70% chance on any given day that there will be at least one food truck at Travis Park. \n",
    "# However, you haven't seen a food truck there in 3 days. How unlikely is this?\n",
    "\n",
    "# 2% probability that there will not be a food truck in 3 \"consecutive days\"\n",
    "\n",
    "ntrials = 10_000 # \"normalizing\" the distribution\n",
    "food_trucks = [0, 1] # where \"1\" represents a food truck being present and \"0\" represents no food truck present\n",
    "\n",
    "dist_food_trucks = np.random.choice(food_trucks, size=(ntrials, 3), p=[0.3, 0.7])\n",
    "(dist_food_trucks.sum(axis=1) == 0).mean().round(2)\n"
   ]
  },
  {
   "cell_type": "code",
   "execution_count": 354,
   "metadata": {},
   "outputs": [
    {
     "data": {
      "text/plain": [
       "0.0281"
      ]
     },
     "execution_count": 354,
     "metadata": {},
     "output_type": "execute_result"
    }
   ],
   "source": [
    "# class walkthru\n",
    "# where \"0\" = \"NO truck shows up\", and \"1\" = \"truck shows up\"\n",
    "\n",
    "trucks = np.random.choice([0, 1], size = (10_000, 3), p = [0.3, 0.7])\n",
    "\n",
    "(trucks.sum(axis=1) == 0).mean() # 3% chance that NO truck shows up this week"
   ]
  },
  {
   "cell_type": "code",
   "execution_count": 425,
   "metadata": {},
   "outputs": [
    {
     "data": {
      "text/plain": [
       "0.908"
      ]
     },
     "execution_count": 425,
     "metadata": {},
     "output_type": "execute_result"
    }
   ],
   "source": [
    "# 7. continued\n",
    "#  How likely is it that a food truck will show up sometime this week?\n",
    "# there is a 99% chance that a food truck will show-up at somepoint this week\n",
    "\n",
    "ntrials = 10_000 # \"normalizing\" the distribution\n",
    "food_trucks = [0, 1] # where \"1\" represents a food truck being present and \"0\" represents no food truck present\n",
    "\n",
    "# where the number \"4\" represents total number of days left after 3 consecutive days without a truck showing up\n",
    "dist_food_trucks = np.random.choice(food_trucks, size=(ntrials, 2), p=[0.3, 0.7])\n",
    "(dist_food_trucks.sum(axis=1) >= 1).mean().round(3)"
   ]
  },
  {
   "cell_type": "code",
   "execution_count": 423,
   "metadata": {},
   "outputs": [
    {
     "data": {
      "text/plain": [
       "0.908"
      ]
     },
     "execution_count": 423,
     "metadata": {},
     "output_type": "execute_result"
    }
   ],
   "source": [
    "# (class walkthru) probability that at least 1 truck shows up for the remainder of the \"work - week\"\n",
    "\n",
    "trucks_will_show = np.random.choice([0, 1], size = (10_000, 2), p = [0.3, 0.7])\n",
    "\n",
    "(trucks_will_show.sum(axis=1) > 0).mean()"
   ]
  },
  {
   "cell_type": "code",
   "execution_count": 411,
   "metadata": {},
   "outputs": [
    {
     "data": {
      "text/plain": [
       "0.5134"
      ]
     },
     "execution_count": 411,
     "metadata": {},
     "output_type": "execute_result"
    }
   ],
   "source": [
    "# 8. \n",
    "# If 23 people are in the same room, what are the odds that two of them share a birthday? \n",
    "\n",
    "ntrials = 10_000 # \"normalizing\" the distribution\n",
    "same_birthday = list(range(1, 367)) # where \"0\" represents \"not the same birthday\" and \"1\" represents \"same birthday\"\n",
    "\n",
    "dist_birthdays = np.random.choice(same_birthday, size=(ntrials, 23)) # where probabilities represent 1 in 366 potential birthdays in a year\n",
    "\n",
    "# now i want to sum and average the number of times when person 1 and person 2 have the same birthday\n",
    "(pd.DataFrame(dist_birthdays).nunique(axis=1) < 23).mean()"
   ]
  },
  {
   "cell_type": "code",
   "execution_count": 429,
   "metadata": {},
   "outputs": [
    {
     "data": {
      "text/plain": [
       "0.06"
      ]
     },
     "execution_count": 429,
     "metadata": {},
     "output_type": "execute_result"
    }
   ],
   "source": [
    "# what is the likelihood that someone in a party of 23 has my exact birthday?\n",
    "\n",
    "ntrials = 10_000 # \"normalizing\" the distribution\n",
    "same_birthday = [0, 1] # where \"0\" = no one has my birthday, \"1\" = someone has my birthday!\n",
    "\n",
    "dist_birthdays = np.random.choice(same_birthday, size=(ntrials, 23), p = [365/366, 1/366]) # where probabilities represent 1 in 366 potential birthdays in a year\n",
    "\n",
    "# calculating the likelihood that someone in a party of 23 has my birthday\n",
    "# 6% probability\n",
    "\n",
    "(dist_birthdays.sum(axis=1) > 0).mean().round(2)"
   ]
  },
  {
   "cell_type": "code",
   "execution_count": 410,
   "metadata": {},
   "outputs": [
    {
     "data": {
      "text/plain": [
       "0.5075"
      ]
     },
     "execution_count": 410,
     "metadata": {},
     "output_type": "execute_result"
    }
   ],
   "source": [
    "# class walkthru\n",
    "\n",
    "birthday = np.random.choice(range(1, 366), size=(10_000, 23)) # not leap year\n",
    "\n",
    "(pd.DataFrame(birthday).nunique(axis=1) < 23).mean()"
   ]
  },
  {
   "cell_type": "code",
   "execution_count": 412,
   "metadata": {},
   "outputs": [
    {
     "data": {
      "text/plain": [
       "0.4074"
      ]
     },
     "execution_count": 412,
     "metadata": {},
     "output_type": "execute_result"
    }
   ],
   "source": [
    "# 8. continued\n",
    "# What if it's 20 people? \n",
    "\n",
    "ntrials = 10_000 # \"normalizing\" the distribution\n",
    "same_birthday = list(range(1, 367)) # where \"0\" represents \"not the same birthday\" and \"1\" represents \"same birthday\"\n",
    "\n",
    "dist_birthdays = np.random.choice(same_birthday, size=(ntrials, 20)) # where probabilities represent 1 in 366 potential birthdays in a year\n",
    "\n",
    "# now i want to sum and average the number of times when person 1 and person 2 have the same birthday\n",
    "(pd.DataFrame(dist_birthdays).nunique(axis=1) < 20).mean()"
   ]
  },
  {
   "cell_type": "code",
   "execution_count": 426,
   "metadata": {},
   "outputs": [
    {
     "data": {
      "text/plain": [
       "0.8927"
      ]
     },
     "execution_count": 426,
     "metadata": {},
     "output_type": "execute_result"
    }
   ],
   "source": [
    "# 8. continued\n",
    "# 40 people?\n",
    "\n",
    "ntrials = 10_000 # \"normalizing\" the distribution\n",
    "same_birthday = list(range(1, 366)) \n",
    "\n",
    "dist_birthdays = np.random.choice(same_birthday, size=(ntrials, 40))\n",
    "\n",
    "# now i want to sum and average the number of times when person 1 and person 2 have the same birthday\n",
    "(pd.DataFrame(dist_birthdays).nunique(axis=1) < 40).mean()"
   ]
  }
 ],
 "metadata": {
  "interpreter": {
   "hash": "40d3a090f54c6569ab1632332b64b2c03c39dcf918b08424e98f38b5ae0af88f"
  },
  "kernelspec": {
   "display_name": "Python 3.9.12 ('base')",
   "language": "python",
   "name": "python3"
  },
  "language_info": {
   "codemirror_mode": {
    "name": "ipython",
    "version": 3
   },
   "file_extension": ".py",
   "mimetype": "text/x-python",
   "name": "python",
   "nbconvert_exporter": "python",
   "pygments_lexer": "ipython3",
   "version": "3.9.12"
  },
  "orig_nbformat": 4
 },
 "nbformat": 4,
 "nbformat_minor": 2
}
