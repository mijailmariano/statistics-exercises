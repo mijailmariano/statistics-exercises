{
 "cells": [
  {
   "cell_type": "markdown",
   "metadata": {},
   "source": [
    "## Has the network latency gone up since we switched ISPs?\n",
    "\n",
    "**$H_0$: \"Latency hasn't changed after the switch in ISP.\"**\n",
    "\n",
    "**$H_a$: \"Latency has changed after the switch in ISP.\"**\n",
    "\n",
    "\n",
    "**True Positive**\n",
    "- $H_0$ is rejected, latency has gone up\n",
    "- low p-value\n",
    "- avg latency after the switch is higher than the average latency before the switch\n",
    "\n",
    "\n",
    "**False Positive**\n",
    "- $H_0$ is rejected\n",
    "- low p-value\n",
    "- a significant difference found in latency prior to and after\n",
    "- we found the latency prior was lower than our measured, external factors impact latency\n",
    "- server crash, downloads, many users etc\n",
    "\n",
    "\n",
    "**False Negative**\n",
    "- $H_0$ is accepted\n",
    "- high p-value\n",
    "- we found the latency to be equal, sampling bias, technology, time of day of test\n",
    "\n",
    "\n",
    "**True Negative**\n",
    "- $H_0$ is true\n",
    "- high p-value\n",
    "- Latency has stayed the same or gone down"
   ]
  },
  {
   "cell_type": "markdown",
   "metadata": {},
   "source": [
    "----\n",
    "## Is the website redesign any good?\n",
    "\n",
    "**$H_0$: \"Web traffic has stayed the same.\"**\n",
    "\n",
    "**$H_a$: \"Web traffic has changed.**\n",
    "\n",
    "\n",
    "**True Positive**\n",
    "- low p-value\n",
    "- $H_0$ is rejected and false\n",
    "- Traffic has statistically increased significantly\n",
    "\n",
    "**False Positive**\n",
    "low p-value\n",
    "- $H_0$ is rejected and true \n",
    "- traffic increased, due to external factors, holiday season\n",
    "\n",
    "**False Negative**\n",
    "- high p-value\n",
    "- $H_0$ is accepted\n",
    "- traffic looked like it stayed the same, sample size\n",
    "\n",
    "**True Negative**\n",
    "- high p-value\n",
    "- $H_0$ is true, failed to be rejected\n",
    "- traffic stayed the same"
   ]
  },
  {
   "cell_type": "markdown",
   "metadata": {},
   "source": [
    "----\n",
    "## Is our TV ad driving more sales?\n",
    "\n",
    "**$H_0$: \"Sales have remained the same after the tv add.\"**\n",
    "\n",
    "**$H_a$: \"Sales have changed after the tv add.\"**\n",
    "\n",
    "\n",
    "**True Positive**\n",
    "- Ho is rejected and false\n",
    "- low p-value\n",
    "- sales has statistically increased, significantly\n",
    "\n",
    "**False Positive**\n",
    "- Ho is rejected and true \n",
    "- low p-value\n",
    "- sales increased, due to external factors\n",
    "\n",
    "**False Negative**\n",
    "\n",
    "- Ho is accepted\n",
    "- high p-value\n",
    "- sales looked like it stayed the same, but they didnt, sample size\n",
    "\n",
    "**True Negative**\n",
    "- Ho is true, failed to be rejected\n",
    "- high p-value\n",
    "- sales stayed the same, tv ad was a flop"
   ]
  },
  {
   "cell_type": "markdown",
   "metadata": {},
   "source": [
    "----\n",
    "### T-test Excercises\n",
    "\n",
    "**Ace Realty wants to determine whether the average time it takes to sell homes is different for its two offices.**\n",
    "    \n",
    "    Office 1:\n",
    "\n",
    "    - A sample of 40 sales from office #1 revealed a mean of 90 days and a standard deviation of 15 days. \n",
    "\n",
    "    Office 2:\n",
    "\n",
    "    - A sample of 50 sales from office #2 revealed a mean of 100 days and a standard deviation of 20 days. \n",
    "\n",
    "- Use a .05 level of significance.\n",
    "\n",
    "\n",
    "**Load the mpg dataset and use it to answer the following questions:**\n",
    "\n",
    "  - Is there a difference in fuel-efficiency in cars from 2008 vs 1999?\n",
    "  \n",
    "  - Are compact cars more fuel-efficient than the average car?\n",
    "\n",
    "\n",
    "  - Do manual cars get better gas mileage than automatic cars?"
   ]
  },
  {
   "cell_type": "code",
   "execution_count": 265,
   "metadata": {},
   "outputs": [],
   "source": [
    "import pandas as pd\n",
    "import numpy as np\n",
    "import scipy.stats as stats\n",
    "import matplotlib.pyplot as plt\n",
    "from pydataset import data"
   ]
  },
  {
   "cell_type": "code",
   "execution_count": 266,
   "metadata": {},
   "outputs": [],
   "source": [
    "# (focal question) is the average time it takes to sell a home different between the two offices?\n",
    "\n",
    "# (Goal) compare the mean time of home sell of two (2) groups \n",
    "# this will be 2 independent T-tests comparison\n",
    "# since I am only given the descriptive statistics of the two (2) office groups - i will need to use the \"stats.ttest_ind_from_stats()\" function\n",
    "\n",
    "alpha = 0.05\n",
    "\n",
    "office_1_sample = 40 # number of sales\n",
    "office_1_mean = 90 # number of days\n",
    "office_1_std_dev = 15 # number of days\n",
    "\n",
    "office_2_sample = 50 # number of sales\n",
    "office_2_mean = 100 # number of days\n",
    "office_2_std_dev = 20 # number of days"
   ]
  },
  {
   "cell_type": "markdown",
   "metadata": {},
   "source": [
    "#### Hypothesis Generation\n",
    "\n",
    "$H_0$: \"There's no difference in the average time it takes Office 1 and Office 2 to sell a home.\"\n",
    "\n",
    "$H_a$: There is a difference in the average time it takes Office 1 and Office 2 to sell a home.\""
   ]
  },
  {
   "cell_type": "code",
   "execution_count": 267,
   "metadata": {},
   "outputs": [
    {
     "data": {
      "text/plain": [
       "400"
      ]
     },
     "execution_count": 267,
     "metadata": {},
     "output_type": "execute_result"
    }
   ],
   "source": [
    "# comparing sample variances \n",
    "office_1_std_dev**2 # where sample var = 225 days squared\n",
    "office_2_std_dev**2 # where sample var = 400 days squared"
   ]
  },
  {
   "cell_type": "code",
   "execution_count": 268,
   "metadata": {},
   "outputs": [
    {
     "name": "stdout",
     "output_type": "stream",
     "text": [
      "REJECT the Null Hypothesis. There IS an average home-sale time difference across both offices.\n"
     ]
    }
   ],
   "source": [
    "t_test, p_value = stats.ttest_ind_from_stats(\n",
    "    office_1_mean, office_1_std_dev, office_1_sample,\n",
    "    office_2_mean, office_2_std_dev, office_2_sample,\n",
    "    equal_var=False\n",
    ")\n",
    "\n",
    "if p_value < alpha: \n",
    "    print(f\"REJECT the Null Hypothesis. There IS an average home-sale time difference across both offices.\")\n",
    "else: \n",
    "    print(f\"FAILED to reject the Null Hypothesis. There is NOT an average home-sale time difference across both offices.\")"
   ]
  },
  {
   "cell_type": "markdown",
   "metadata": {},
   "source": [
    "----"
   ]
  },
  {
   "cell_type": "code",
   "execution_count": 269,
   "metadata": {},
   "outputs": [],
   "source": [
    "mpg_db = data('mpg')"
   ]
  },
  {
   "cell_type": "code",
   "execution_count": 270,
   "metadata": {},
   "outputs": [],
   "source": [
    "#  1. Is there a difference in fuel-efficiency in cars from 2008 vs 1999?\n",
    "#  2. Are compact cars more fuel-efficient than the average car?\n",
    "#  3. Do manual cars get better gas mileage than automatic cars?"
   ]
  },
  {
   "cell_type": "markdown",
   "metadata": {},
   "source": [
    "### Framing the Scientific Question / Experiment\n",
    "\n",
    "    Focal Question: Is there a difference in fuel-efficiency in cars from 2008 vs. cars from 1999? \n",
    "\n",
    "\"Fuel-efficiency\" as measured by \"total average miles\", or said another way: the combined average of cars' city and highway miles.\n",
    "\n",
    "**Assumptions:**\n",
    "\n",
    "- Both comparisons are independent of ea. other\n",
    "- Sample size is > 30 records/observations\n",
    "- Variances across both samples will be different\n",
    "\n",
    "----"
   ]
  },
  {
   "cell_type": "code",
   "execution_count": 271,
   "metadata": {},
   "outputs": [
    {
     "data": {
      "text/plain": [
       "manufacturer     object\n",
       "model            object\n",
       "displ           float64\n",
       "year              int64\n",
       "cyl               int64\n",
       "trans            object\n",
       "drv              object\n",
       "cty               int64\n",
       "hwy               int64\n",
       "fl               object\n",
       "class            object\n",
       "dtype: object"
      ]
     },
     "execution_count": 271,
     "metadata": {},
     "output_type": "execute_result"
    }
   ],
   "source": [
    "mpg_db.dtypes # whereby city and highway miles are both int type (check: will make it easier to sum and average)"
   ]
  },
  {
   "cell_type": "code",
   "execution_count": 272,
   "metadata": {},
   "outputs": [
    {
     "data": {
      "text/plain": [
       "array([1999, 2008])"
      ]
     },
     "execution_count": 272,
     "metadata": {},
     "output_type": "execute_result"
    }
   ],
   "source": [
    "mpg_db['year'].unique() # i am able to see that there are only 2 year periods in this dataset (2008 and 1999)"
   ]
  },
  {
   "cell_type": "code",
   "execution_count": 273,
   "metadata": {},
   "outputs": [
    {
     "data": {
      "text/html": [
       "<div>\n",
       "<style scoped>\n",
       "    .dataframe tbody tr th:only-of-type {\n",
       "        vertical-align: middle;\n",
       "    }\n",
       "\n",
       "    .dataframe tbody tr th {\n",
       "        vertical-align: top;\n",
       "    }\n",
       "\n",
       "    .dataframe thead th {\n",
       "        text-align: right;\n",
       "    }\n",
       "</style>\n",
       "<table border=\"1\" class=\"dataframe\">\n",
       "  <thead>\n",
       "    <tr style=\"text-align: right;\">\n",
       "      <th></th>\n",
       "      <th>manufacturer</th>\n",
       "      <th>model</th>\n",
       "      <th>displ</th>\n",
       "      <th>year</th>\n",
       "      <th>cyl</th>\n",
       "      <th>trans</th>\n",
       "      <th>drv</th>\n",
       "      <th>cty</th>\n",
       "      <th>hwy</th>\n",
       "      <th>fl</th>\n",
       "      <th>class</th>\n",
       "      <th>total_avg_mpg</th>\n",
       "    </tr>\n",
       "  </thead>\n",
       "  <tbody>\n",
       "    <tr>\n",
       "      <th>1</th>\n",
       "      <td>audi</td>\n",
       "      <td>a4</td>\n",
       "      <td>1.8</td>\n",
       "      <td>1999</td>\n",
       "      <td>4</td>\n",
       "      <td>auto(l5)</td>\n",
       "      <td>f</td>\n",
       "      <td>18</td>\n",
       "      <td>29</td>\n",
       "      <td>p</td>\n",
       "      <td>compact</td>\n",
       "      <td>23.5</td>\n",
       "    </tr>\n",
       "    <tr>\n",
       "      <th>2</th>\n",
       "      <td>audi</td>\n",
       "      <td>a4</td>\n",
       "      <td>1.8</td>\n",
       "      <td>1999</td>\n",
       "      <td>4</td>\n",
       "      <td>manual(m5)</td>\n",
       "      <td>f</td>\n",
       "      <td>21</td>\n",
       "      <td>29</td>\n",
       "      <td>p</td>\n",
       "      <td>compact</td>\n",
       "      <td>25.0</td>\n",
       "    </tr>\n",
       "    <tr>\n",
       "      <th>3</th>\n",
       "      <td>audi</td>\n",
       "      <td>a4</td>\n",
       "      <td>2.0</td>\n",
       "      <td>2008</td>\n",
       "      <td>4</td>\n",
       "      <td>manual(m6)</td>\n",
       "      <td>f</td>\n",
       "      <td>20</td>\n",
       "      <td>31</td>\n",
       "      <td>p</td>\n",
       "      <td>compact</td>\n",
       "      <td>25.5</td>\n",
       "    </tr>\n",
       "    <tr>\n",
       "      <th>4</th>\n",
       "      <td>audi</td>\n",
       "      <td>a4</td>\n",
       "      <td>2.0</td>\n",
       "      <td>2008</td>\n",
       "      <td>4</td>\n",
       "      <td>auto(av)</td>\n",
       "      <td>f</td>\n",
       "      <td>21</td>\n",
       "      <td>30</td>\n",
       "      <td>p</td>\n",
       "      <td>compact</td>\n",
       "      <td>25.5</td>\n",
       "    </tr>\n",
       "    <tr>\n",
       "      <th>5</th>\n",
       "      <td>audi</td>\n",
       "      <td>a4</td>\n",
       "      <td>2.8</td>\n",
       "      <td>1999</td>\n",
       "      <td>6</td>\n",
       "      <td>auto(l5)</td>\n",
       "      <td>f</td>\n",
       "      <td>16</td>\n",
       "      <td>26</td>\n",
       "      <td>p</td>\n",
       "      <td>compact</td>\n",
       "      <td>21.0</td>\n",
       "    </tr>\n",
       "  </tbody>\n",
       "</table>\n",
       "</div>"
      ],
      "text/plain": [
       "  manufacturer model  displ  year  cyl       trans drv  cty  hwy fl    class  \\\n",
       "1         audi    a4    1.8  1999    4    auto(l5)   f   18   29  p  compact   \n",
       "2         audi    a4    1.8  1999    4  manual(m5)   f   21   29  p  compact   \n",
       "3         audi    a4    2.0  2008    4  manual(m6)   f   20   31  p  compact   \n",
       "4         audi    a4    2.0  2008    4    auto(av)   f   21   30  p  compact   \n",
       "5         audi    a4    2.8  1999    6    auto(l5)   f   16   26  p  compact   \n",
       "\n",
       "   total_avg_mpg  \n",
       "1           23.5  \n",
       "2           25.0  \n",
       "3           25.5  \n",
       "4           25.5  \n",
       "5           21.0  "
      ]
     },
     "execution_count": 273,
     "metadata": {},
     "output_type": "execute_result"
    }
   ],
   "source": [
    "# creating a new column called \"total_avg_mpg\"\n",
    "mpg_db['total_avg_mpg'] = (mpg_db['cty'] + mpg_db['hwy']) / 2\n",
    "\n",
    "# verifying the results of the newly created column\n",
    "mpg_db.head()"
   ]
  },
  {
   "cell_type": "code",
   "execution_count": 274,
   "metadata": {},
   "outputs": [
    {
     "data": {
      "text/html": [
       "<div>\n",
       "<style scoped>\n",
       "    .dataframe tbody tr th:only-of-type {\n",
       "        vertical-align: middle;\n",
       "    }\n",
       "\n",
       "    .dataframe tbody tr th {\n",
       "        vertical-align: top;\n",
       "    }\n",
       "\n",
       "    .dataframe thead th {\n",
       "        text-align: right;\n",
       "    }\n",
       "</style>\n",
       "<table border=\"1\" class=\"dataframe\">\n",
       "  <thead>\n",
       "    <tr style=\"text-align: right;\">\n",
       "      <th></th>\n",
       "      <th>manufacturer</th>\n",
       "      <th>year</th>\n",
       "      <th>model</th>\n",
       "      <th>cty</th>\n",
       "      <th>hwy</th>\n",
       "      <th>total_avg_mpg</th>\n",
       "      <th>displ</th>\n",
       "      <th>cyl</th>\n",
       "      <th>trans</th>\n",
       "      <th>drv</th>\n",
       "      <th>fl</th>\n",
       "      <th>class</th>\n",
       "    </tr>\n",
       "  </thead>\n",
       "  <tbody>\n",
       "    <tr>\n",
       "      <th>1</th>\n",
       "      <td>audi</td>\n",
       "      <td>1999</td>\n",
       "      <td>a4</td>\n",
       "      <td>18</td>\n",
       "      <td>29</td>\n",
       "      <td>23.5</td>\n",
       "      <td>1.8</td>\n",
       "      <td>4</td>\n",
       "      <td>auto(l5)</td>\n",
       "      <td>f</td>\n",
       "      <td>p</td>\n",
       "      <td>compact</td>\n",
       "    </tr>\n",
       "    <tr>\n",
       "      <th>2</th>\n",
       "      <td>audi</td>\n",
       "      <td>1999</td>\n",
       "      <td>a4</td>\n",
       "      <td>21</td>\n",
       "      <td>29</td>\n",
       "      <td>25.0</td>\n",
       "      <td>1.8</td>\n",
       "      <td>4</td>\n",
       "      <td>manual(m5)</td>\n",
       "      <td>f</td>\n",
       "      <td>p</td>\n",
       "      <td>compact</td>\n",
       "    </tr>\n",
       "    <tr>\n",
       "      <th>3</th>\n",
       "      <td>audi</td>\n",
       "      <td>2008</td>\n",
       "      <td>a4</td>\n",
       "      <td>20</td>\n",
       "      <td>31</td>\n",
       "      <td>25.5</td>\n",
       "      <td>2.0</td>\n",
       "      <td>4</td>\n",
       "      <td>manual(m6)</td>\n",
       "      <td>f</td>\n",
       "      <td>p</td>\n",
       "      <td>compact</td>\n",
       "    </tr>\n",
       "    <tr>\n",
       "      <th>4</th>\n",
       "      <td>audi</td>\n",
       "      <td>2008</td>\n",
       "      <td>a4</td>\n",
       "      <td>21</td>\n",
       "      <td>30</td>\n",
       "      <td>25.5</td>\n",
       "      <td>2.0</td>\n",
       "      <td>4</td>\n",
       "      <td>auto(av)</td>\n",
       "      <td>f</td>\n",
       "      <td>p</td>\n",
       "      <td>compact</td>\n",
       "    </tr>\n",
       "    <tr>\n",
       "      <th>5</th>\n",
       "      <td>audi</td>\n",
       "      <td>1999</td>\n",
       "      <td>a4</td>\n",
       "      <td>16</td>\n",
       "      <td>26</td>\n",
       "      <td>21.0</td>\n",
       "      <td>2.8</td>\n",
       "      <td>6</td>\n",
       "      <td>auto(l5)</td>\n",
       "      <td>f</td>\n",
       "      <td>p</td>\n",
       "      <td>compact</td>\n",
       "    </tr>\n",
       "  </tbody>\n",
       "</table>\n",
       "</div>"
      ],
      "text/plain": [
       "  manufacturer  year model  cty  hwy  total_avg_mpg  displ  cyl       trans  \\\n",
       "1         audi  1999    a4   18   29           23.5    1.8    4    auto(l5)   \n",
       "2         audi  1999    a4   21   29           25.0    1.8    4  manual(m5)   \n",
       "3         audi  2008    a4   20   31           25.5    2.0    4  manual(m6)   \n",
       "4         audi  2008    a4   21   30           25.5    2.0    4    auto(av)   \n",
       "5         audi  1999    a4   16   26           21.0    2.8    6    auto(l5)   \n",
       "\n",
       "  drv fl    class  \n",
       "1   f  p  compact  \n",
       "2   f  p  compact  \n",
       "3   f  p  compact  \n",
       "4   f  p  compact  \n",
       "5   f  p  compact  "
      ]
     },
     "execution_count": 274,
     "metadata": {},
     "output_type": "execute_result"
    }
   ],
   "source": [
    "# reording the columns to place the information i will be looking at, earlier in the dataframe\n",
    "\n",
    "column_lst = list(mpg_db.columns.values)\n",
    "mpg_db = mpg_db[[\n",
    "    'manufacturer',\n",
    "    'year',\n",
    "    'model',\n",
    "    'cty',\n",
    "    'hwy',\n",
    "    'total_avg_mpg',\n",
    "    'displ',\n",
    "    'cyl',\n",
    "    'trans',\n",
    "    'drv',\n",
    "    'fl',\n",
    "    'class'\n",
    " ]]\n",
    "\n",
    "mpg_db.head() # this checks out!"
   ]
  },
  {
   "cell_type": "code",
   "execution_count": 275,
   "metadata": {},
   "outputs": [
    {
     "data": {
      "text/plain": [
       "117"
      ]
     },
     "execution_count": 275,
     "metadata": {},
     "output_type": "execute_result"
    }
   ],
   "source": [
    "# next, I will conduct some initial analysis that should also help inform my assumptions and help determine the correct method to take for comparing these two (2) car samples\n",
    "\n",
    "len(mpg_db[mpg_db['year'] == 2008]) # 117 total 2008 vehicles in df\n",
    "len(mpg_db[mpg_db['year'] == 1999]) # 117 total 1999 vehicles in df\n",
    "\n",
    "# both samples are > 30 observations\n",
    "# next i'll calculate the mean and std_deviation for 2008 & 1999 vehicles"
   ]
  },
  {
   "cell_type": "code",
   "execution_count": 276,
   "metadata": {},
   "outputs": [
    {
     "data": {
      "text/html": [
       "<div>\n",
       "<style scoped>\n",
       "    .dataframe tbody tr th:only-of-type {\n",
       "        vertical-align: middle;\n",
       "    }\n",
       "\n",
       "    .dataframe tbody tr th {\n",
       "        vertical-align: top;\n",
       "    }\n",
       "\n",
       "    .dataframe thead th {\n",
       "        text-align: right;\n",
       "    }\n",
       "</style>\n",
       "<table border=\"1\" class=\"dataframe\">\n",
       "  <thead>\n",
       "    <tr style=\"text-align: right;\">\n",
       "      <th></th>\n",
       "      <th>total_avg_mpg</th>\n",
       "    </tr>\n",
       "    <tr>\n",
       "      <th>year</th>\n",
       "      <th></th>\n",
       "    </tr>\n",
       "  </thead>\n",
       "  <tbody>\n",
       "    <tr>\n",
       "      <th>1999</th>\n",
       "      <td>20.2</td>\n",
       "    </tr>\n",
       "    <tr>\n",
       "      <th>2008</th>\n",
       "      <td>20.1</td>\n",
       "    </tr>\n",
       "  </tbody>\n",
       "</table>\n",
       "</div>"
      ],
      "text/plain": [
       "      total_avg_mpg\n",
       "year               \n",
       "1999           20.2\n",
       "2008           20.1"
      ]
     },
     "execution_count": 276,
     "metadata": {},
     "output_type": "execute_result"
    }
   ],
   "source": [
    "round(mpg_db[[\"year\", \"total_avg_mpg\"]].groupby(\"year\").mean(), 1)\n",
    "# similar means for both years"
   ]
  },
  {
   "cell_type": "code",
   "execution_count": 277,
   "metadata": {},
   "outputs": [
    {
     "data": {
      "text/html": [
       "<div>\n",
       "<style scoped>\n",
       "    .dataframe tbody tr th:only-of-type {\n",
       "        vertical-align: middle;\n",
       "    }\n",
       "\n",
       "    .dataframe tbody tr th {\n",
       "        vertical-align: top;\n",
       "    }\n",
       "\n",
       "    .dataframe thead th {\n",
       "        text-align: right;\n",
       "    }\n",
       "</style>\n",
       "<table border=\"1\" class=\"dataframe\">\n",
       "  <thead>\n",
       "    <tr style=\"text-align: right;\">\n",
       "      <th></th>\n",
       "      <th>total_avg_mpg</th>\n",
       "    </tr>\n",
       "    <tr>\n",
       "      <th>year</th>\n",
       "      <th></th>\n",
       "    </tr>\n",
       "  </thead>\n",
       "  <tbody>\n",
       "    <tr>\n",
       "      <th>1999</th>\n",
       "      <td>5.2</td>\n",
       "    </tr>\n",
       "    <tr>\n",
       "      <th>2008</th>\n",
       "      <td>4.9</td>\n",
       "    </tr>\n",
       "  </tbody>\n",
       "</table>\n",
       "</div>"
      ],
      "text/plain": [
       "      total_avg_mpg\n",
       "year               \n",
       "1999            5.2\n",
       "2008            4.9"
      ]
     },
     "execution_count": 277,
     "metadata": {},
     "output_type": "execute_result"
    }
   ],
   "source": [
    "round(mpg_db[[\"year\", \"total_avg_mpg\"]].groupby(\"year\").std(), 1)\n",
    "# standard deviation\n",
    "# 1999\t5.2 actual\n",
    "# 2008\t4.9 actual"
   ]
  },
  {
   "cell_type": "code",
   "execution_count": 278,
   "metadata": {},
   "outputs": [
    {
     "name": "stdout",
     "output_type": "stream",
     "text": [
      "5.205766033928148\n",
      "4.909175083453431\n"
     ]
    }
   ],
   "source": [
    "# let's check the variance\n",
    "import math\n",
    "round(mpg_db[[\"year\", \"total_avg_mpg\"]].groupby(\"year\").var(), 3)\n",
    "\n",
    "print(math.sqrt(27.1)) # check's out\n",
    "print(math.sqrt(24.1)) # check's out"
   ]
  },
  {
   "cell_type": "markdown",
   "metadata": {},
   "source": [
    "#### Hypothesis Generation and alpha\n",
    "\n",
    "**$H_0$:** \n",
    "    \n",
    "- \"There is NO difference in fuel-efficiency across vehicles made in 2008 and 1999.\"\n",
    "\n",
    "**$H_a$:**\n",
    "\n",
    "  - \"There IS a difference in fuel-effiency across vehicles made in 2008 and 1999.\"\n",
    "\n",
    "**Fuel-effiency**:\n",
    "\n",
    "- as measured by the combined total average of city and highway miles. \n",
    "\n",
    "**Where:** (next step)\n",
    "\n",
    "- lower total_avg_mpg = \"less fuel-efficient\" and...\n",
    "- higher total_avg_mpg = \"more fuel-efficient\"\n",
    "  \n",
    "$\\alpha$ = 0.05"
   ]
  },
  {
   "cell_type": "code",
   "execution_count": 293,
   "metadata": {},
   "outputs": [
    {
     "data": {
      "text/plain": [
       "<AxesSubplot:>"
      ]
     },
     "execution_count": 293,
     "metadata": {},
     "output_type": "execute_result"
    },
    {
     "data": {
      "image/png": "[encoded data removed]",
      "text/plain": [
       "<Figure size 720x720 with 1 Axes>"
      ]
     },
     "metadata": {
      "needs_background": "light"
     },
     "output_type": "display_data"
    }
   ],
   "source": [
    "alpha = 0.05\n",
    "\n",
    "mpg_1999_sample = mpg_db[mpg_db.year == 1999].total_avg_mpg\n",
    "mpg_2008_sample = mpg_db[mpg_db.year == 2008].total_avg_mpg\n",
    "\n",
    "plt.figure(figsize= (10, 10))\n",
    "mpg_2008_sample.hist()\n",
    "mpg_1999_sample.hist()"
   ]
  },
  {
   "cell_type": "code",
   "execution_count": 280,
   "metadata": {},
   "outputs": [],
   "source": [
    "t_score, p_value = stats.ttest_ind(mpg_1999_sample, mpg_2008_sample)"
   ]
  },
  {
   "cell_type": "code",
   "execution_count": 281,
   "metadata": {},
   "outputs": [
    {
     "name": "stdout",
     "output_type": "stream",
     "text": [
      "CANNOT reject the Null Hypothesis.\n"
     ]
    }
   ],
   "source": [
    "if (p_value < alpha) and t_score > 0:\n",
    "    print(\"REJECT the Null Hypothesis. There IS a fuel-efficiency difference in vehicles made in 2008 and 1999.\")\n",
    "else:\n",
    "    print(\"CANNOT reject the Null Hypothesis.\")"
   ]
  },
  {
   "cell_type": "code",
   "execution_count": 282,
   "metadata": {},
   "outputs": [
    {
     "data": {
      "text/plain": [
       "0.8263744040323578"
      ]
     },
     "execution_count": 282,
     "metadata": {},
     "output_type": "execute_result"
    }
   ],
   "source": [
    "p_value "
   ]
  },
  {
   "cell_type": "markdown",
   "metadata": {},
   "source": [
    "----\n",
    "####  MPG Dataset Question #2: Are compact cars more fuel-efficient than the average car?\n",
    "\n",
    "$H_0$: \"Mean of compact car fuel-efficiency is <= the mean fuel-effiecincy of average cars.\"\n",
    "\n",
    "$H_a$: \"Mean of compact car fuel-efficiency is > the mean fuel-effiecincy of average cars. \"\n",
    "\n",
    "**paremeters:**\n",
    "\n",
    "fuel-efficiency: \n",
    "- higher total average mpg\n",
    "\n",
    "average car: \n",
    "- NOT compact (all other cars in population excluding compact, and subcompact cars)\n",
    "\n",
    "\n",
    "$\\alpha$ = 0.05"
   ]
  },
  {
   "cell_type": "code",
   "execution_count": 283,
   "metadata": {},
   "outputs": [],
   "source": [
    "alpha = 0.05"
   ]
  },
  {
   "cell_type": "code",
   "execution_count": 284,
   "metadata": {},
   "outputs": [
    {
     "data": {
      "text/plain": [
       "array(['compact', 'midsize', 'suv', '2seater', 'minivan', 'pickup',\n",
       "       'subcompact'], dtype=object)"
      ]
     },
     "execution_count": 284,
     "metadata": {},
     "output_type": "execute_result"
    }
   ],
   "source": [
    "mpg_db['class'].unique()"
   ]
  },
  {
   "cell_type": "code",
   "execution_count": 285,
   "metadata": {},
   "outputs": [
    {
     "data": {
      "text/plain": [
       "1      23.5\n",
       "2      25.0\n",
       "3      25.5\n",
       "4      25.5\n",
       "5      21.0\n",
       "6      22.0\n",
       "7      22.5\n",
       "8      22.0\n",
       "9      20.5\n",
       "10     24.0\n",
       "11     23.0\n",
       "12     20.0\n",
       "13     21.0\n",
       "14     21.0\n",
       "15     20.0\n",
       "142    25.0\n",
       "143    23.0\n",
       "170    22.5\n",
       "171    23.5\n",
       "172    22.0\n",
       "173    23.5\n",
       "187    24.0\n",
       "188    25.0\n",
       "189    26.0\n",
       "190    26.5\n",
       "191    22.0\n",
       "192    22.0\n",
       "193    22.5\n",
       "194    27.0\n",
       "195    28.5\n",
       "196    30.5\n",
       "197    32.5\n",
       "198    30.5\n",
       "208    25.0\n",
       "209    22.5\n",
       "210    25.0\n",
       "211    25.5\n",
       "212    20.5\n",
       "213    38.5\n",
       "214    25.0\n",
       "215    22.5\n",
       "216    25.5\n",
       "217    25.0\n",
       "218    25.0\n",
       "219    25.0\n",
       "220    19.5\n",
       "221    20.5\n",
       "Name: total_avg_mpg, dtype: float64"
      ]
     },
     "execution_count": 285,
     "metadata": {},
     "output_type": "execute_result"
    }
   ],
   "source": [
    "# for comparison to population mean -- creating a series with just compact car total avg mpg\n",
    "compact_sample = mpg_db[mpg_db['class'] == \"compact\"].total_avg_mpg\n",
    "compact_sample\n",
    "# compact_mean = round(compact_sample['total_avg_mpg'].mean(), 2)\n",
    "#  24.21 total mpg mean"
   ]
  },
  {
   "cell_type": "code",
   "execution_count": 340,
   "metadata": {},
   "outputs": [
    {
     "data": {
      "image/png": "[encoded data removed]",
      "text/plain": [
       "<Figure size 720x720 with 1 Axes>"
      ]
     },
     "metadata": {
      "needs_background": "light"
     },
     "output_type": "display_data"
    }
   ],
   "source": [
    "from scipy.stats import norm\n",
    "import seaborn as sns\n",
    "plt.figure(figsize= (10, 10))\n",
    "\n",
    "mu, std = norm.fit(compact_sample) \n",
    "\n",
    "# plotting compact sample values\n",
    "plt.hist(compact_sample, edgecolor= \"black\", color='blue', density=True, alpha=0.5)\n",
    "\n",
    "xmin, xmax = plt.xlim()\n",
    "x = np.linspace(xmin, xmax)\n",
    "p = norm.pdf(x, mu, std)\n",
    "\n",
    "plt.plot(x, p, 'k', linewidth=2)\n",
    "title = \"Fit Values: {:.2f} and {:.2f}\".format(mu, std)\n",
    "plt.title(title)\n",
    "\n",
    "plt.show()"
   ]
  },
  {
   "cell_type": "code",
   "execution_count": 286,
   "metadata": {},
   "outputs": [],
   "source": [
    "# compact_std = round(compact_sample['total_avg_mpg'].std(), 2)\n",
    "# 3.53 standard deviation"
   ]
  },
  {
   "cell_type": "code",
   "execution_count": 287,
   "metadata": {},
   "outputs": [],
   "source": [
    "# calculating the compact sample size\n",
    "# len(compact_sample) # 47 records/oberservations, which should be enough for our t_test comparison"
   ]
  },
  {
   "cell_type": "code",
   "execution_count": 288,
   "metadata": {},
   "outputs": [],
   "source": [
    "# math.sqrt(compact_std) # checking the variance -- which checks out"
   ]
  },
  {
   "cell_type": "code",
   "execution_count": 289,
   "metadata": {},
   "outputs": [
    {
     "data": {
      "text/plain": [
       "array(['midsize', 'suv', '2seater', 'minivan', 'pickup'], dtype=object)"
      ]
     },
     "execution_count": 289,
     "metadata": {},
     "output_type": "execute_result"
    }
   ],
   "source": [
    "# calculating the mean, and standard deviation for cars other than compact\n",
    "average_sample = mpg_db[(mpg_db['class'] != \"compact\") & (mpg_db['class'] != \"subcompact\")]\n",
    "average_sample['class'].unique()"
   ]
  },
  {
   "cell_type": "code",
   "execution_count": 290,
   "metadata": {},
   "outputs": [],
   "source": [
    "# next, i want to calculate the mean, and standard deviation for the average car sample\n",
    "\n",
    "average_mean = round(average_sample['total_avg_mpg'].mean(), 2)\n",
    "# 17.95 total mpg mean\n",
    "\n",
    "# average_std = round(average_sample['total_avg_mpg'].std(), 2)\n",
    "# 4.02 standard deviation"
   ]
  },
  {
   "cell_type": "code",
   "execution_count": 291,
   "metadata": {},
   "outputs": [],
   "source": [
    "# calculating the sample size\n",
    "# len(average_sample) # 152 records or observations, which should be enough for our t_test comparison"
   ]
  },
  {
   "cell_type": "code",
   "execution_count": 292,
   "metadata": {},
   "outputs": [
    {
     "name": "stdout",
     "output_type": "stream",
     "text": [
      "REJECT the Null Hypothesis. Compact Cars have GREATER fuel-efficiency that average cars.\n"
     ]
    }
   ],
   "source": [
    "t_score, p_value = stats.ttest_1samp(compact_sample, average_mean)\n",
    "\n",
    "if (p_value/2) < alpha and t_score > 0: \n",
    "    print(f\"REJECT the Null Hypothesis. Compact Cars have GREATER fuel-efficiency that average cars.\")\n",
    "else: \n",
    "    print(f\"Failed to reject the Null Hypothesis.\")"
   ]
  },
  {
   "cell_type": "markdown",
   "metadata": {},
   "source": []
  }
 ],
 "metadata": {
  "kernelspec": {
   "display_name": "Python 3.9.12 ('base')",
   "language": "python",
   "name": "python3"
  },
  "language_info": {
   "codemirror_mode": {
    "name": "ipython",
    "version": 3
   },
   "file_extension": ".py",
   "mimetype": "text/x-python",
   "name": "python",
   "nbconvert_exporter": "python",
   "pygments_lexer": "ipython3",
   "version": "3.9.12"
  },
  "orig_nbformat": 4,
  "vscode": {
   "interpreter": {
    "hash": "40d3a090f54c6569ab1632332b64b2c03c39dcf918b08424e98f38b5ae0af88f"
   }
  }
 },
 "nbformat": 4,
 "nbformat_minor": 2
}
